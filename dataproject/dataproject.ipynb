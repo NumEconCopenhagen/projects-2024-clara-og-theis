{
 "cells": [
  {
   "cell_type": "markdown",
   "metadata": {},
   "source": [
    "# Total work effort in Denmark compared to other OECD countries"
   ]
  },
  {
   "cell_type": "markdown",
   "metadata": {},
   "source": [
    "Imports and set magics:"
   ]
  },
  {
   "cell_type": "code",
   "execution_count": null,
   "metadata": {},
   "outputs": [],
   "source": [
    "#pip install pandasdmx\n",
    "#pip install geopandas"
   ]
  },
  {
   "cell_type": "code",
   "execution_count": null,
   "metadata": {},
   "outputs": [],
   "source": [
    "import pandas as pd\n",
    "import pandasdmx as pdmx\n",
    "import numpy as np\n",
    "import matplotlib.pyplot as plt\n",
    "import ipywidgets as widgets\n",
    "import geopandas as gpd\n",
    "from mpl_toolkits.axes_grid1.axes_divider import make_axes_locatable\n",
    "\n",
    "# autoreload modules when code is run\n",
    "%load_ext autoreload\n",
    "%autoreload 2\n",
    "\n",
    "# user written modules\n",
    "import dataproject"
   ]
  },
  {
   "cell_type": "markdown",
   "metadata": {},
   "source": [
    "# Read and clean data"
   ]
  },
  {
   "cell_type": "markdown",
   "metadata": {},
   "source": [
    "In this data project we will investigate the total work effort in Denmark. In relation to this we investigate how the working hours per person employed in OECD countries have evolved over time and especially how Denmark performs compared to the other OECD countries. Additionaly, we explore the relationship between employment rates and working hours per person employed across OECD countries. \n",
    "\n",
    "The two used datasets for the analysis is imported from the OECD database (https://data.oecd.org). Both datasets contain annual data from 2008 to 2022. We employ the following datasets:\n",
    "-  **Level of GDP per capita and productivity - Average hours worked per person employed:** The dataset contains data on average hours worked per person employed measured as hours per year in OECD countries. \n",
    "- **Short-Term Labour Market Statistics - Employment Rate:** The dataset contains data on employment rates measured as the percentage of 15-64 year olds who are employed in each OECD country. The dataset contains employment rates for females, males and all. "
   ]
  },
  {
   "cell_type": "markdown",
   "metadata": {},
   "source": [
    "Importing data on employment rates:"
   ]
  },
  {
   "cell_type": "code",
   "execution_count": null,
   "metadata": {},
   "outputs": [],
   "source": [
    "# Fetching data\n",
    "emplrate = dataproject.fetching_data_emplrate()\n",
    "emplrate.head()"
   ]
  },
  {
   "cell_type": "markdown",
   "metadata": {},
   "source": [
    "Cleaning the data:"
   ]
  },
  {
   "cell_type": "code",
   "execution_count": null,
   "metadata": {},
   "outputs": [],
   "source": [
    "# Drop measure and frequency\n",
    "emplrate.drop(['MEASURE', 'FREQUENCY'], axis=1, inplace=True) \n",
    "\n",
    "# Rename \n",
    "emplrate.rename(columns = {'TIME_PERIOD':'YEAR', 'value':'EMPLRATE'}, inplace=True)\n",
    "emplrate['SUBJECT'].replace({'LREM64FE': 'Female', 'LREM64MA': 'Male', 'LREM64TT': 'All'}, inplace=True)\n",
    "emplrate"
   ]
  },
  {
   "cell_type": "markdown",
   "metadata": {},
   "source": [
    "Importing data on average hours worked per person employed:"
   ]
  },
  {
   "cell_type": "code",
   "execution_count": null,
   "metadata": {},
   "outputs": [],
   "source": [
    "# Fetching data\n",
    "hours = dataproject.fetching_data_hours()\n",
    "hours.head()"
   ]
  },
  {
   "cell_type": "markdown",
   "metadata": {},
   "source": [
    "Cleaning the data:"
   ]
  },
  {
   "cell_type": "code",
   "execution_count": null,
   "metadata": {},
   "outputs": [],
   "source": [
    "# Drop subject and measure\n",
    "hours.drop(['SUBJECT', 'MEASURE'], axis=1, inplace=True) \n",
    "\n",
    "# Rename \n",
    "hours.rename(columns = {'TIME_PERIOD':'YEAR', 'value':'AVHRS'}, inplace=True)\n",
    "hours"
   ]
  },
  {
   "cell_type": "markdown",
   "metadata": {},
   "source": [
    "## Explore each data set"
   ]
  },
  {
   "cell_type": "markdown",
   "metadata": {},
   "source": [
    "To get a quick overview of the data, we show some **summary statistics** on a meaningful aggregation. "
   ]
  },
  {
   "cell_type": "markdown",
   "metadata": {},
   "source": [
    "**Vi mangler mere deskriptiv statistik og det kunne være nice at lave noget med det der split-and-apply - fx nogle genenmsnit for alle EU lande eller på tværs af køn - I dont know.** "
   ]
  },
  {
   "cell_type": "markdown",
   "metadata": {},
   "source": [
    "An interactive plot illustrates the employments rates of 2022 across OECD countries with a drop down menu that enables the graph to show employment rates for males, females and all, respectively. This shows which countries are included in the 'emplrate' dataset and indicates the differences in employment rates across OECD countries:"
   ]
  },
  {
   "cell_type": "code",
   "execution_count": null,
   "metadata": {},
   "outputs": [],
   "source": [
    "# Import world map data\n",
    "worldmap = gpd.read_file(gpd.datasets.get_path('naturalearth_lowres'))\n",
    "\n",
    "def create_map_emplrate(gender):\n",
    "    # Looking at employment rates in 2022\n",
    "    emplrate_map = emplrate[(emplrate['SUBJECT'] == gender) & (emplrate['YEAR'] == '2022')]\n",
    "\n",
    "    # Merge employment rate data and world map data\n",
    "    mapdata_emplrate = pd.merge(worldmap, emplrate_map, how=\"left\", left_on='iso_a3', right_on='LOCATION')\n",
    "\n",
    "    # Plot the map\n",
    "    fig, ax = plt.subplots(1, 1, figsize=(20, 16))\n",
    "    divider = make_axes_locatable(ax)\n",
    "    cax = divider.append_axes(\"right\", size=\"2%\", pad=\"0.5%\")\n",
    "    mapdata_emplrate.plot(column=\"EMPLRATE\", ax=ax, cax=cax, cmap='OrRd', legend=True, legend_kwds={\"label\": f\"Employment rate in 2022 for {gender} (%)\"}, missing_kwds={'color':'lightgrey'}, vmin=45, vmax=85)\n",
    "    ax.set_title(f'Employment rate for OECD countries in 2022', size=20)\n",
    "    plt.show()\n",
    "\n",
    "# Dropdown menu \n",
    "gender_dropdown = widgets.Dropdown(options=['All', 'Male', 'Female'], value='All', description='Gender:')\n",
    "widgets.interactive(create_map_emplrate, gender=gender_dropdown)"
   ]
  },
  {
   "cell_type": "markdown",
   "metadata": {},
   "source": [
    "Another world map illustrates the average hours worked per person employed in 2022 across OECD countries. This shows which countries are included in the 'hours' dataset and indicates the differences in working hours across OECD countries:"
   ]
  },
  {
   "cell_type": "code",
   "execution_count": null,
   "metadata": {},
   "outputs": [],
   "source": [
    "# Looking at working hours in 2022\n",
    "hours_map = hours[hours['YEAR'] == '2022']\n",
    "\n",
    "# Merge employment rate data and world map data\n",
    "mapdata_hours = pd.merge(worldmap, hours_map, how=\"left\", left_on='iso_a3', right_on='LOCATION')\n",
    "\n",
    "# Plot the map\n",
    "fig, ax = plt.subplots(1, 1, figsize=(20, 16))\n",
    "divider = make_axes_locatable(ax)\n",
    "cax = divider.append_axes(\"right\", size=\"2%\", pad=\"0.5%\")\n",
    "mapdata_hours.plot(column=\"AVHRS\", ax=ax, cax=cax, cmap='OrRd', legend=True, legend_kwds={\"label\": f\"Average working hours per person employed (hours per year)\"}, missing_kwds={'color':'lightgrey'}, vmin=1400, vmax=2000)\n",
    "ax.set_title(f'Average working hours per person employed in OECD countries in 2022', size=20)\n",
    "plt.show()"
   ]
  },
  {
   "cell_type": "markdown",
   "metadata": {},
   "source": [
    "# Merge data sets"
   ]
  },
  {
   "cell_type": "markdown",
   "metadata": {},
   "source": [
    "Merge the datasets on employment rates and average hours per person employed in OECD countries. We do an inner merge because we only want to keep observations where both an employment rate and average working hours exists:"
   ]
  },
  {
   "cell_type": "code",
   "execution_count": null,
   "metadata": {},
   "outputs": [],
   "source": [
    "#Merge the two dataset\n",
    "data_merged = pd.merge(emplrate,hours,how='inner',on=['LOCATION','YEAR'])\n",
    "data_merged"
   ]
  },
  {
   "cell_type": "markdown",
   "metadata": {},
   "source": [
    "# Analysis"
   ]
  },
  {
   "cell_type": "markdown",
   "metadata": {},
   "source": [
    "MAKE FURTHER ANALYSIS. EXPLAIN THE CODE BRIEFLY AND SUMMARIZE THE RESULTS."
   ]
  },
  {
   "cell_type": "markdown",
   "metadata": {},
   "source": [
    "We plot the average hours worked per person employed over time for each of the OECD countries in the analysis to get an idea of how the working hours have evolved across time:"
   ]
  },
  {
   "cell_type": "code",
   "execution_count": null,
   "metadata": {},
   "outputs": [],
   "source": [
    "# Define function to update plot based on selected LOCATION\n",
    "def update_plot(location):\n",
    "    fig = plt.figure(figsize=(10, 6))\n",
    "    ax = fig.add_subplot(1,1,1)\n",
    "    ax.plot(data_merged[(data_merged['LOCATION'] == location) & (data_merged['SUBJECT'] == 'All')]['YEAR'], \n",
    "            data_merged[(data_merged['LOCATION'] == location) & (data_merged['SUBJECT'] == 'All')]['AVHRS'])\n",
    "    ax.set_xlabel('Year')\n",
    "    ax.set_ylabel('Average hours worked per person employed (hours per year)')\n",
    "    ax.set_title(f'Average hours worked per person employed across time for {location}')\n",
    "    plt.show()\n",
    "\n",
    "# Create dropdown menu for selecting LOCATION\n",
    "location_dropdown = widgets.Dropdown(options=data_merged['LOCATION'].unique(), value='DNK', description='Location:')\n",
    "\n",
    "# Define interactive widget to update plot based on dropdown selection\n",
    "widgets.interactive(update_plot, location=location_dropdown)"
   ]
  },
  {
   "cell_type": "markdown",
   "metadata": {},
   "source": [
    "There is a general trend in OECD countries where working hours per person employed have declined in the period 2008-2022. "
   ]
  },
  {
   "cell_type": "markdown",
   "metadata": {},
   "source": [
    "In a scatterplot the employments rate is plotted against the average hours worked in 2022 for all OECD countries:"
   ]
  },
  {
   "cell_type": "code",
   "execution_count": null,
   "metadata": {},
   "outputs": [],
   "source": [
    "# Plot employment rates across average working hours per person employed\n",
    "plt.figure(figsize=(10, 6))\n",
    "plt.scatter(x=data_merged[(data_merged['SUBJECT'] == 'All') & (data_merged['YEAR'] == '2022')]['AVHRS'], \n",
    "            y=data_merged[(data_merged['SUBJECT'] == 'All') & (data_merged['YEAR'] == '2022')]['EMPLRATE'])\n",
    "\n",
    "plt.xlabel('Average hours worked per person employed (hours per year)')\n",
    "plt.ylabel('Employment rate (%)')\n",
    "plt.title('Scatter plot of employment rate against average working hours across OECD countries (2022)')\n",
    "\n",
    "# Annotate points with country names\n",
    "for index, row in data_merged[(data_merged['SUBJECT'] == 'All') & (data_merged['YEAR'] == '2022')].iterrows():\n",
    "    plt.annotate(row['LOCATION'], (row['AVHRS'], row['EMPLRATE']))\n",
    "\n",
    "plt.show()"
   ]
  },
  {
   "cell_type": "markdown",
   "metadata": {},
   "source": [
    "The graph shows that Denmark ranks very low when it comes to working hours per person employed. At the same time relatively many danes between 15 and 64 years is in employment compared to other OECD countries."
   ]
  },
  {
   "cell_type": "markdown",
   "metadata": {},
   "source": [
    "A bar chart compares the employment rates in 2022 of OECD countries and highlights the rank of Denmark. A drop down menu enables the plot to how employment rates for males and females:"
   ]
  },
  {
   "cell_type": "code",
   "execution_count": null,
   "metadata": {},
   "outputs": [],
   "source": [
    "# Plotting a bar chart of the male and female employment rates in 2022\n",
    "def update_plot(gender):\n",
    "    plt.figure(figsize=(10, 6))\n",
    "    \n",
    "    # Filter data for the selected gender and year\n",
    "    filtered_data = data_merged[(data_merged['YEAR'] == '2022') & (data_merged['SUBJECT'] == gender)]\n",
    "\n",
    "    # Sort the data in descending order of employment rate\n",
    "    sorted_data = filtered_data.sort_values(by='EMPLRATE', ascending=False)\n",
    "\n",
    "     # Plotting the data\n",
    "    plt.bar(sorted_data['LOCATION'], sorted_data['EMPLRATE'], color='skyblue')\n",
    "    plt.bar(sorted_data[sorted_data['LOCATION'] == 'DNK']['LOCATION'], sorted_data[sorted_data['LOCATION'] == 'DNK']['EMPLRATE'], color='blue')\n",
    "    \n",
    "    plt.xlabel('Country')\n",
    "    plt.ylabel('Employment Rate (%)')\n",
    "    plt.title(f'{gender} Employment Rates in OECD Countries in 2022')\n",
    "    plt.xticks(rotation=45, ha='right')  # Rotate x-axis labels for better readability\n",
    "    plt.show()\n",
    "\n",
    "# Create dropdown menu for selecting gender\n",
    "gender_dropdown = widgets.Dropdown(options=['Male', 'Female'], value='Female', description='Gender:')\n",
    "\n",
    "# Define interactive widget to update plot based on dropdown selection\n",
    "widgets.interactive(update_plot, gender=gender_dropdown)"
   ]
  },
  {
   "cell_type": "markdown",
   "metadata": {},
   "source": [
    "The female employment rate is especially large in Denmark compared to the other OECD countries. "
   ]
  },
  {
   "cell_type": "markdown",
   "metadata": {},
   "source": [
    "# Conclusion"
   ]
  },
  {
   "cell_type": "markdown",
   "metadata": {},
   "source": [
    "Our analysis shows that average working hours per person employed has decreased across time for most of the OECD countries. \n",
    "Specifically, Denmark ranks as one of the OECD countries with the lowest average working hours per person employed in 2022.However, the employment rate in Denmark in 2022 is quite large compared to a lot of the other OECD countries. This is, among other things, because the female employment rate in Denmark is relatively large. Thus we cannot conclude anything umambiguous about the total work effort in Denmark. "
   ]
  }
 ],
 "metadata": {
  "kernelspec": {
   "display_name": "base",
   "language": "python",
   "name": "python3"
  },
  "language_info": {
   "codemirror_mode": {
    "name": "ipython",
    "version": 3
   },
   "file_extension": ".py",
   "mimetype": "text/x-python",
   "name": "python",
   "nbconvert_exporter": "python",
   "pygments_lexer": "ipython3",
   "version": "3.11.7"
  },
  "toc-autonumbering": true,
  "vscode": {
   "interpreter": {
    "hash": "47ef90cdf3004d3f859f1fb202523c65c07ba7c22eefd261b181f4744e2d0403"
   }
  }
 },
 "nbformat": 4,
 "nbformat_minor": 4
}
