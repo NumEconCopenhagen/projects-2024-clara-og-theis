{
 "cells": [
  {
   "cell_type": "markdown",
   "metadata": {},
   "source": [
    "# YOUR PROJECT TITLE"
   ]
  },
  {
   "cell_type": "markdown",
   "metadata": {},
   "source": [
    "Imports and set magics:"
   ]
  },
  {
   "cell_type": "code",
   "execution_count": 1,
   "metadata": {},
   "outputs": [],
   "source": [
    "#pip install pandasdmx\n",
    "#pip install geopandas"
   ]
  },
  {
   "cell_type": "code",
   "execution_count": 2,
   "metadata": {},
   "outputs": [
    {
     "name": "stderr",
     "output_type": "stream",
     "text": [
      "/Users/claraengelund/anaconda3/lib/python3.11/site-packages/pandasdmx/remote.py:11: RuntimeWarning: optional dependency requests_cache is not installed; cache options to Session() have no effect\n",
      "  warn(\n"
     ]
    }
   ],
   "source": [
    "import pandas as pd\n",
    "import pandasdmx as pdmx\n",
    "import numpy as np\n",
    "import matplotlib.pyplot as plt\n",
    "import ipywidgets as widgets\n",
    "import geopandas as gpd\n",
    "from mpl_toolkits.axes_grid1.axes_divider import make_axes_locatable\n",
    "\n",
    "# autoreload modules when code is run\n",
    "%load_ext autoreload\n",
    "%autoreload 2\n",
    "\n",
    "# user written modules\n",
    "import dataproject"
   ]
  },
  {
   "cell_type": "markdown",
   "metadata": {},
   "source": [
    "# Read and clean data"
   ]
  },
  {
   "cell_type": "markdown",
   "metadata": {},
   "source": [
    "Write something about the datasets. "
   ]
  },
  {
   "cell_type": "markdown",
   "metadata": {},
   "source": [
    "Importing data on employment rates"
   ]
  },
  {
   "cell_type": "code",
   "execution_count": 3,
   "metadata": {},
   "outputs": [
    {
     "data": {
      "text/html": [
       "<div>\n",
       "<style scoped>\n",
       "    .dataframe tbody tr th:only-of-type {\n",
       "        vertical-align: middle;\n",
       "    }\n",
       "\n",
       "    .dataframe tbody tr th {\n",
       "        vertical-align: top;\n",
       "    }\n",
       "\n",
       "    .dataframe thead th {\n",
       "        text-align: right;\n",
       "    }\n",
       "</style>\n",
       "<table border=\"1\" class=\"dataframe\">\n",
       "  <thead>\n",
       "    <tr style=\"text-align: right;\">\n",
       "      <th></th>\n",
       "      <th>LOCATION</th>\n",
       "      <th>SUBJECT</th>\n",
       "      <th>MEASURE</th>\n",
       "      <th>FREQUENCY</th>\n",
       "      <th>TIME_PERIOD</th>\n",
       "      <th>value</th>\n",
       "    </tr>\n",
       "  </thead>\n",
       "  <tbody>\n",
       "    <tr>\n",
       "      <th>0</th>\n",
       "      <td>AUS</td>\n",
       "      <td>LREM64FE</td>\n",
       "      <td>STSA</td>\n",
       "      <td>A</td>\n",
       "      <td>2008</td>\n",
       "      <td>66.71808</td>\n",
       "    </tr>\n",
       "    <tr>\n",
       "      <th>1</th>\n",
       "      <td>AUS</td>\n",
       "      <td>LREM64FE</td>\n",
       "      <td>STSA</td>\n",
       "      <td>A</td>\n",
       "      <td>2009</td>\n",
       "      <td>66.30235</td>\n",
       "    </tr>\n",
       "    <tr>\n",
       "      <th>2</th>\n",
       "      <td>AUS</td>\n",
       "      <td>LREM64FE</td>\n",
       "      <td>STSA</td>\n",
       "      <td>A</td>\n",
       "      <td>2010</td>\n",
       "      <td>66.14607</td>\n",
       "    </tr>\n",
       "    <tr>\n",
       "      <th>3</th>\n",
       "      <td>AUS</td>\n",
       "      <td>LREM64FE</td>\n",
       "      <td>STSA</td>\n",
       "      <td>A</td>\n",
       "      <td>2011</td>\n",
       "      <td>66.65070</td>\n",
       "    </tr>\n",
       "    <tr>\n",
       "      <th>4</th>\n",
       "      <td>AUS</td>\n",
       "      <td>LREM64FE</td>\n",
       "      <td>STSA</td>\n",
       "      <td>A</td>\n",
       "      <td>2012</td>\n",
       "      <td>66.57001</td>\n",
       "    </tr>\n",
       "  </tbody>\n",
       "</table>\n",
       "</div>"
      ],
      "text/plain": [
       "  LOCATION   SUBJECT MEASURE FREQUENCY TIME_PERIOD     value\n",
       "0      AUS  LREM64FE    STSA         A        2008  66.71808\n",
       "1      AUS  LREM64FE    STSA         A        2009  66.30235\n",
       "2      AUS  LREM64FE    STSA         A        2010  66.14607\n",
       "3      AUS  LREM64FE    STSA         A        2011  66.65070\n",
       "4      AUS  LREM64FE    STSA         A        2012  66.57001"
      ]
     },
     "execution_count": 3,
     "metadata": {},
     "output_type": "execute_result"
    }
   ],
   "source": [
    "emplrate = dataproject.fetching_data_emplrate()\n",
    "emplrate.head()"
   ]
  },
  {
   "cell_type": "markdown",
   "metadata": {},
   "source": [
    "Cleaning the data"
   ]
  },
  {
   "cell_type": "code",
   "execution_count": 4,
   "metadata": {},
   "outputs": [
    {
     "data": {
      "text/html": [
       "<div>\n",
       "<style scoped>\n",
       "    .dataframe tbody tr th:only-of-type {\n",
       "        vertical-align: middle;\n",
       "    }\n",
       "\n",
       "    .dataframe tbody tr th {\n",
       "        vertical-align: top;\n",
       "    }\n",
       "\n",
       "    .dataframe thead th {\n",
       "        text-align: right;\n",
       "    }\n",
       "</style>\n",
       "<table border=\"1\" class=\"dataframe\">\n",
       "  <thead>\n",
       "    <tr style=\"text-align: right;\">\n",
       "      <th></th>\n",
       "      <th>LOCATION</th>\n",
       "      <th>SUBJECT</th>\n",
       "      <th>YEAR</th>\n",
       "      <th>EMPLRATE</th>\n",
       "    </tr>\n",
       "  </thead>\n",
       "  <tbody>\n",
       "    <tr>\n",
       "      <th>0</th>\n",
       "      <td>AUS</td>\n",
       "      <td>Female</td>\n",
       "      <td>2008</td>\n",
       "      <td>66.71808</td>\n",
       "    </tr>\n",
       "    <tr>\n",
       "      <th>1</th>\n",
       "      <td>AUS</td>\n",
       "      <td>Female</td>\n",
       "      <td>2009</td>\n",
       "      <td>66.30235</td>\n",
       "    </tr>\n",
       "    <tr>\n",
       "      <th>2</th>\n",
       "      <td>AUS</td>\n",
       "      <td>Female</td>\n",
       "      <td>2010</td>\n",
       "      <td>66.14607</td>\n",
       "    </tr>\n",
       "    <tr>\n",
       "      <th>3</th>\n",
       "      <td>AUS</td>\n",
       "      <td>Female</td>\n",
       "      <td>2011</td>\n",
       "      <td>66.65070</td>\n",
       "    </tr>\n",
       "    <tr>\n",
       "      <th>4</th>\n",
       "      <td>AUS</td>\n",
       "      <td>Female</td>\n",
       "      <td>2012</td>\n",
       "      <td>66.57001</td>\n",
       "    </tr>\n",
       "    <tr>\n",
       "      <th>...</th>\n",
       "      <td>...</td>\n",
       "      <td>...</td>\n",
       "      <td>...</td>\n",
       "      <td>...</td>\n",
       "    </tr>\n",
       "    <tr>\n",
       "      <th>1711</th>\n",
       "      <td>CRI</td>\n",
       "      <td>All</td>\n",
       "      <td>2019</td>\n",
       "      <td>61.64743</td>\n",
       "    </tr>\n",
       "    <tr>\n",
       "      <th>1712</th>\n",
       "      <td>CRI</td>\n",
       "      <td>All</td>\n",
       "      <td>2020</td>\n",
       "      <td>54.83073</td>\n",
       "    </tr>\n",
       "    <tr>\n",
       "      <th>1713</th>\n",
       "      <td>CRI</td>\n",
       "      <td>All</td>\n",
       "      <td>2021</td>\n",
       "      <td>57.15372</td>\n",
       "    </tr>\n",
       "    <tr>\n",
       "      <th>1714</th>\n",
       "      <td>CRI</td>\n",
       "      <td>All</td>\n",
       "      <td>2022</td>\n",
       "      <td>60.05968</td>\n",
       "    </tr>\n",
       "    <tr>\n",
       "      <th>1715</th>\n",
       "      <td>CRI</td>\n",
       "      <td>All</td>\n",
       "      <td>2023</td>\n",
       "      <td>58.64424</td>\n",
       "    </tr>\n",
       "  </tbody>\n",
       "</table>\n",
       "<p>1716 rows × 4 columns</p>\n",
       "</div>"
      ],
      "text/plain": [
       "     LOCATION SUBJECT  YEAR  EMPLRATE\n",
       "0         AUS  Female  2008  66.71808\n",
       "1         AUS  Female  2009  66.30235\n",
       "2         AUS  Female  2010  66.14607\n",
       "3         AUS  Female  2011  66.65070\n",
       "4         AUS  Female  2012  66.57001\n",
       "...       ...     ...   ...       ...\n",
       "1711      CRI     All  2019  61.64743\n",
       "1712      CRI     All  2020  54.83073\n",
       "1713      CRI     All  2021  57.15372\n",
       "1714      CRI     All  2022  60.05968\n",
       "1715      CRI     All  2023  58.64424\n",
       "\n",
       "[1716 rows x 4 columns]"
      ]
     },
     "execution_count": 4,
     "metadata": {},
     "output_type": "execute_result"
    }
   ],
   "source": [
    "#Drop measure and frequency\n",
    "emplrate.drop(['MEASURE', 'FREQUENCY'], axis=1, inplace=True) \n",
    "\n",
    "#Rename \n",
    "emplrate.rename(columns = {'TIME_PERIOD':'YEAR', 'value':'EMPLRATE'}, inplace=True)\n",
    "emplrate['SUBJECT'].replace({'LREM64FE': 'Female', 'LREM64MA': 'Male', 'LREM64TT': 'All'}, inplace=True)\n",
    "emplrate"
   ]
  },
  {
   "cell_type": "markdown",
   "metadata": {},
   "source": [
    "Importing data on average hours worked per person employed"
   ]
  },
  {
   "cell_type": "code",
   "execution_count": 5,
   "metadata": {},
   "outputs": [
    {
     "data": {
      "text/html": [
       "<div>\n",
       "<style scoped>\n",
       "    .dataframe tbody tr th:only-of-type {\n",
       "        vertical-align: middle;\n",
       "    }\n",
       "\n",
       "    .dataframe tbody tr th {\n",
       "        vertical-align: top;\n",
       "    }\n",
       "\n",
       "    .dataframe thead th {\n",
       "        text-align: right;\n",
       "    }\n",
       "</style>\n",
       "<table border=\"1\" class=\"dataframe\">\n",
       "  <thead>\n",
       "    <tr style=\"text-align: right;\">\n",
       "      <th></th>\n",
       "      <th>LOCATION</th>\n",
       "      <th>SUBJECT</th>\n",
       "      <th>MEASURE</th>\n",
       "      <th>TIME_PERIOD</th>\n",
       "      <th>value</th>\n",
       "    </tr>\n",
       "  </thead>\n",
       "  <tbody>\n",
       "    <tr>\n",
       "      <th>0</th>\n",
       "      <td>AUS</td>\n",
       "      <td>T_HRSAV</td>\n",
       "      <td>PEHRS</td>\n",
       "      <td>2008</td>\n",
       "      <td>1753.556685</td>\n",
       "    </tr>\n",
       "    <tr>\n",
       "      <th>1</th>\n",
       "      <td>AUS</td>\n",
       "      <td>T_HRSAV</td>\n",
       "      <td>PEHRS</td>\n",
       "      <td>2009</td>\n",
       "      <td>1779.140915</td>\n",
       "    </tr>\n",
       "    <tr>\n",
       "      <th>2</th>\n",
       "      <td>AUS</td>\n",
       "      <td>T_HRSAV</td>\n",
       "      <td>PEHRS</td>\n",
       "      <td>2010</td>\n",
       "      <td>1755.149446</td>\n",
       "    </tr>\n",
       "    <tr>\n",
       "      <th>3</th>\n",
       "      <td>AUS</td>\n",
       "      <td>T_HRSAV</td>\n",
       "      <td>PEHRS</td>\n",
       "      <td>2011</td>\n",
       "      <td>1771.541297</td>\n",
       "    </tr>\n",
       "    <tr>\n",
       "      <th>4</th>\n",
       "      <td>AUS</td>\n",
       "      <td>T_HRSAV</td>\n",
       "      <td>PEHRS</td>\n",
       "      <td>2012</td>\n",
       "      <td>1759.612242</td>\n",
       "    </tr>\n",
       "  </tbody>\n",
       "</table>\n",
       "</div>"
      ],
      "text/plain": [
       "  LOCATION  SUBJECT MEASURE TIME_PERIOD        value\n",
       "0      AUS  T_HRSAV   PEHRS        2008  1753.556685\n",
       "1      AUS  T_HRSAV   PEHRS        2009  1779.140915\n",
       "2      AUS  T_HRSAV   PEHRS        2010  1755.149446\n",
       "3      AUS  T_HRSAV   PEHRS        2011  1771.541297\n",
       "4      AUS  T_HRSAV   PEHRS        2012  1759.612242"
      ]
     },
     "execution_count": 5,
     "metadata": {},
     "output_type": "execute_result"
    }
   ],
   "source": [
    "hours = dataproject.fetching_data_hours()\n",
    "hours.head()"
   ]
  },
  {
   "cell_type": "markdown",
   "metadata": {},
   "source": [
    "Cleaning the data"
   ]
  },
  {
   "cell_type": "code",
   "execution_count": 6,
   "metadata": {},
   "outputs": [
    {
     "data": {
      "text/html": [
       "<div>\n",
       "<style scoped>\n",
       "    .dataframe tbody tr th:only-of-type {\n",
       "        vertical-align: middle;\n",
       "    }\n",
       "\n",
       "    .dataframe tbody tr th {\n",
       "        vertical-align: top;\n",
       "    }\n",
       "\n",
       "    .dataframe thead th {\n",
       "        text-align: right;\n",
       "    }\n",
       "</style>\n",
       "<table border=\"1\" class=\"dataframe\">\n",
       "  <thead>\n",
       "    <tr style=\"text-align: right;\">\n",
       "      <th></th>\n",
       "      <th>LOCATION</th>\n",
       "      <th>YEAR</th>\n",
       "      <th>AVHRS</th>\n",
       "    </tr>\n",
       "  </thead>\n",
       "  <tbody>\n",
       "    <tr>\n",
       "      <th>0</th>\n",
       "      <td>AUS</td>\n",
       "      <td>2008</td>\n",
       "      <td>1753.556685</td>\n",
       "    </tr>\n",
       "    <tr>\n",
       "      <th>1</th>\n",
       "      <td>AUS</td>\n",
       "      <td>2009</td>\n",
       "      <td>1779.140915</td>\n",
       "    </tr>\n",
       "    <tr>\n",
       "      <th>2</th>\n",
       "      <td>AUS</td>\n",
       "      <td>2010</td>\n",
       "      <td>1755.149446</td>\n",
       "    </tr>\n",
       "    <tr>\n",
       "      <th>3</th>\n",
       "      <td>AUS</td>\n",
       "      <td>2011</td>\n",
       "      <td>1771.541297</td>\n",
       "    </tr>\n",
       "    <tr>\n",
       "      <th>4</th>\n",
       "      <td>AUS</td>\n",
       "      <td>2012</td>\n",
       "      <td>1759.612242</td>\n",
       "    </tr>\n",
       "    <tr>\n",
       "      <th>...</th>\n",
       "      <td>...</td>\n",
       "      <td>...</td>\n",
       "      <td>...</td>\n",
       "    </tr>\n",
       "    <tr>\n",
       "      <th>563</th>\n",
       "      <td>COL</td>\n",
       "      <td>2018</td>\n",
       "      <td>2385.939332</td>\n",
       "    </tr>\n",
       "    <tr>\n",
       "      <th>564</th>\n",
       "      <td>COL</td>\n",
       "      <td>2019</td>\n",
       "      <td>2382.611241</td>\n",
       "    </tr>\n",
       "    <tr>\n",
       "      <th>565</th>\n",
       "      <td>COL</td>\n",
       "      <td>2020</td>\n",
       "      <td>2069.438776</td>\n",
       "    </tr>\n",
       "    <tr>\n",
       "      <th>566</th>\n",
       "      <td>COL</td>\n",
       "      <td>2021</td>\n",
       "      <td>2405.385474</td>\n",
       "    </tr>\n",
       "    <tr>\n",
       "      <th>567</th>\n",
       "      <td>COL</td>\n",
       "      <td>2022</td>\n",
       "      <td>2405.385474</td>\n",
       "    </tr>\n",
       "  </tbody>\n",
       "</table>\n",
       "<p>568 rows × 3 columns</p>\n",
       "</div>"
      ],
      "text/plain": [
       "    LOCATION  YEAR        AVHRS\n",
       "0        AUS  2008  1753.556685\n",
       "1        AUS  2009  1779.140915\n",
       "2        AUS  2010  1755.149446\n",
       "3        AUS  2011  1771.541297\n",
       "4        AUS  2012  1759.612242\n",
       "..       ...   ...          ...\n",
       "563      COL  2018  2385.939332\n",
       "564      COL  2019  2382.611241\n",
       "565      COL  2020  2069.438776\n",
       "566      COL  2021  2405.385474\n",
       "567      COL  2022  2405.385474\n",
       "\n",
       "[568 rows x 3 columns]"
      ]
     },
     "execution_count": 6,
     "metadata": {},
     "output_type": "execute_result"
    }
   ],
   "source": [
    "#Drop subject and measure\n",
    "hours.drop(['SUBJECT', 'MEASURE'], axis=1, inplace=True) \n",
    "\n",
    "#Rename \n",
    "hours.rename(columns = {'TIME_PERIOD':'YEAR', 'value':'AVHRS'}, inplace=True)\n",
    "hours"
   ]
  },
  {
   "cell_type": "markdown",
   "metadata": {},
   "source": [
    "## Explore each data set"
   ]
  },
  {
   "cell_type": "markdown",
   "metadata": {},
   "source": [
    "An interactive plot illustrates the employments rates of 2022 across OECD countries with a drop down menu that enables the graph to show employment rates for males, females and all, respectively."
   ]
  },
  {
   "cell_type": "code",
   "execution_count": 7,
   "metadata": {},
   "outputs": [
    {
     "name": "stderr",
     "output_type": "stream",
     "text": [
      "/var/folders/8n/0s_l94vx4jd99236nyjdnytw0000gn/T/ipykernel_51461/3526636779.py:2: FutureWarning: The geopandas.dataset module is deprecated and will be removed in GeoPandas 1.0. You can get the original 'naturalearth_lowres' data from https://www.naturalearthdata.com/downloads/110m-cultural-vectors/.\n",
      "  worldmap = gpd.read_file(gpd.datasets.get_path('naturalearth_lowres'))\n"
     ]
    },
    {
     "data": {
      "application/vnd.jupyter.widget-view+json": {
       "model_id": "5c3fe8d7f9884215bfb7c39c75146838",
       "version_major": 2,
       "version_minor": 0
      },
      "text/plain": [
       "interactive(children=(Dropdown(description='Gender:', options=('All', 'Male', 'Female'), value='All'), Output(…"
      ]
     },
     "execution_count": 7,
     "metadata": {},
     "output_type": "execute_result"
    }
   ],
   "source": [
    "# Import world map data\n",
    "worldmap = gpd.read_file(gpd.datasets.get_path('naturalearth_lowres'))\n",
    "\n",
    "def create_map(gender):\n",
    "    # Looking at employment rates in 2022\n",
    "    emplrate_map = emplrate[(emplrate['SUBJECT'] == gender) & (emplrate['YEAR'] == '2022')]\n",
    "\n",
    "    # Merge employment rate data and world map data\n",
    "    mapdata = pd.merge(worldmap, emplrate_map, how=\"left\", left_on='iso_a3', right_on='LOCATION')\n",
    "\n",
    "    # Plot the map\n",
    "    fig, ax = plt.subplots(1, 1, figsize=(20, 16))\n",
    "    divider = make_axes_locatable(ax)\n",
    "    cax = divider.append_axes(\"right\", size=\"2%\", pad=\"0.5%\")\n",
    "    mapdata.plot(column=\"EMPLRATE\", ax=ax, cax=cax, cmap='OrRd', legend=True, legend_kwds={\"label\": f\"Employment rate in 2022 for {gender}\"}, missing_kwds={'color':'lightgrey'}, vmin=45, vmax=85)\n",
    "    ax.set_title(f'Employment rate for OECD countries in 2022', size=20)\n",
    "    plt.show()\n",
    "\n",
    "# Dropdown menu \n",
    "gender_dropdown = widgets.Dropdown(options=['All', 'Male', 'Female'], value='All', description='Gender:')\n",
    "widgets.interactive(create_map, gender=gender_dropdown)"
   ]
  },
  {
   "cell_type": "markdown",
   "metadata": {},
   "source": [
    "Vi mangler mere deskriptiv statistik og det kunne være nice at lave noget med det der split-and-apply - fx nogle genenmsnit for alle EU lande eller på tværs af køn - I dont know. "
   ]
  },
  {
   "cell_type": "markdown",
   "metadata": {},
   "source": [
    "# Merge data sets"
   ]
  },
  {
   "cell_type": "markdown",
   "metadata": {},
   "source": [
    "Merge the datasets on employment rates and average hours per person employed in OECD countries. We do an inner merge as we only want to keep observations where both an employment rate and average labour hours exists. Therefore we also loose some observations. "
   ]
  },
  {
   "cell_type": "code",
   "execution_count": 8,
   "metadata": {},
   "outputs": [
    {
     "data": {
      "text/html": [
       "<div>\n",
       "<style scoped>\n",
       "    .dataframe tbody tr th:only-of-type {\n",
       "        vertical-align: middle;\n",
       "    }\n",
       "\n",
       "    .dataframe tbody tr th {\n",
       "        vertical-align: top;\n",
       "    }\n",
       "\n",
       "    .dataframe thead th {\n",
       "        text-align: right;\n",
       "    }\n",
       "</style>\n",
       "<table border=\"1\" class=\"dataframe\">\n",
       "  <thead>\n",
       "    <tr style=\"text-align: right;\">\n",
       "      <th></th>\n",
       "      <th>LOCATION</th>\n",
       "      <th>SUBJECT</th>\n",
       "      <th>YEAR</th>\n",
       "      <th>EMPLRATE</th>\n",
       "      <th>AVHRS</th>\n",
       "    </tr>\n",
       "  </thead>\n",
       "  <tbody>\n",
       "    <tr>\n",
       "      <th>0</th>\n",
       "      <td>AUS</td>\n",
       "      <td>Female</td>\n",
       "      <td>2008</td>\n",
       "      <td>66.71808</td>\n",
       "      <td>1753.556685</td>\n",
       "    </tr>\n",
       "    <tr>\n",
       "      <th>1</th>\n",
       "      <td>AUS</td>\n",
       "      <td>Male</td>\n",
       "      <td>2008</td>\n",
       "      <td>79.68430</td>\n",
       "      <td>1753.556685</td>\n",
       "    </tr>\n",
       "    <tr>\n",
       "      <th>2</th>\n",
       "      <td>AUS</td>\n",
       "      <td>All</td>\n",
       "      <td>2008</td>\n",
       "      <td>73.20431</td>\n",
       "      <td>1753.556685</td>\n",
       "    </tr>\n",
       "    <tr>\n",
       "      <th>3</th>\n",
       "      <td>AUS</td>\n",
       "      <td>Female</td>\n",
       "      <td>2009</td>\n",
       "      <td>66.30235</td>\n",
       "      <td>1779.140915</td>\n",
       "    </tr>\n",
       "    <tr>\n",
       "      <th>4</th>\n",
       "      <td>AUS</td>\n",
       "      <td>Male</td>\n",
       "      <td>2009</td>\n",
       "      <td>77.78976</td>\n",
       "      <td>1779.140915</td>\n",
       "    </tr>\n",
       "    <tr>\n",
       "      <th>...</th>\n",
       "      <td>...</td>\n",
       "      <td>...</td>\n",
       "      <td>...</td>\n",
       "      <td>...</td>\n",
       "      <td>...</td>\n",
       "    </tr>\n",
       "    <tr>\n",
       "      <th>1684</th>\n",
       "      <td>CRI</td>\n",
       "      <td>Male</td>\n",
       "      <td>2021</td>\n",
       "      <td>70.10255</td>\n",
       "      <td>2080.563075</td>\n",
       "    </tr>\n",
       "    <tr>\n",
       "      <th>1685</th>\n",
       "      <td>CRI</td>\n",
       "      <td>All</td>\n",
       "      <td>2021</td>\n",
       "      <td>57.15372</td>\n",
       "      <td>2080.563075</td>\n",
       "    </tr>\n",
       "    <tr>\n",
       "      <th>1686</th>\n",
       "      <td>CRI</td>\n",
       "      <td>Female</td>\n",
       "      <td>2022</td>\n",
       "      <td>47.06725</td>\n",
       "      <td>2155.727768</td>\n",
       "    </tr>\n",
       "    <tr>\n",
       "      <th>1687</th>\n",
       "      <td>CRI</td>\n",
       "      <td>Male</td>\n",
       "      <td>2022</td>\n",
       "      <td>72.85931</td>\n",
       "      <td>2155.727768</td>\n",
       "    </tr>\n",
       "    <tr>\n",
       "      <th>1688</th>\n",
       "      <td>CRI</td>\n",
       "      <td>All</td>\n",
       "      <td>2022</td>\n",
       "      <td>60.05968</td>\n",
       "      <td>2155.727768</td>\n",
       "    </tr>\n",
       "  </tbody>\n",
       "</table>\n",
       "<p>1689 rows × 5 columns</p>\n",
       "</div>"
      ],
      "text/plain": [
       "     LOCATION SUBJECT  YEAR  EMPLRATE        AVHRS\n",
       "0         AUS  Female  2008  66.71808  1753.556685\n",
       "1         AUS    Male  2008  79.68430  1753.556685\n",
       "2         AUS     All  2008  73.20431  1753.556685\n",
       "3         AUS  Female  2009  66.30235  1779.140915\n",
       "4         AUS    Male  2009  77.78976  1779.140915\n",
       "...       ...     ...   ...       ...          ...\n",
       "1684      CRI    Male  2021  70.10255  2080.563075\n",
       "1685      CRI     All  2021  57.15372  2080.563075\n",
       "1686      CRI  Female  2022  47.06725  2155.727768\n",
       "1687      CRI    Male  2022  72.85931  2155.727768\n",
       "1688      CRI     All  2022  60.05968  2155.727768\n",
       "\n",
       "[1689 rows x 5 columns]"
      ]
     },
     "execution_count": 8,
     "metadata": {},
     "output_type": "execute_result"
    }
   ],
   "source": [
    "#Merge the two dataset\n",
    "data_merged = pd.merge(emplrate,hours,how='inner',on=['LOCATION','YEAR'])\n",
    "data_merged"
   ]
  },
  {
   "cell_type": "markdown",
   "metadata": {},
   "source": [
    "# Analysis"
   ]
  },
  {
   "cell_type": "markdown",
   "metadata": {},
   "source": [
    "To get a quick overview of the data, we show some **summary statistics** on a meaningful aggregation. "
   ]
  },
  {
   "cell_type": "markdown",
   "metadata": {},
   "source": [
    "MAKE FURTHER ANALYSIS. EXPLAIN THE CODE BRIEFLY AND SUMMARIZE THE RESULTS."
   ]
  },
  {
   "cell_type": "markdown",
   "metadata": {},
   "source": [
    "Graph that shows that average hours worked are declining over time for DK. Måske lav den som en drop down widget så man kan vælge landet"
   ]
  },
  {
   "cell_type": "markdown",
   "metadata": {},
   "source": [
    "Graph that plots employment rate against average working hours for all OECD countries to show that even though DK has low average working hours we have a high employment rate."
   ]
  },
  {
   "cell_type": "code",
   "execution_count": 9,
   "metadata": {},
   "outputs": [
    {
     "data": {
      "text/plain": [
       "<Axes: xlabel='EMPLRATE', ylabel='AVHRS'>"
      ]
     },
     "execution_count": 9,
     "metadata": {},
     "output_type": "execute_result"
    },
    {
     "data": {
      "image/png": "[encoded data removed]",
      "text/plain": [
       "<Figure size 640x480 with 1 Axes>"
      ]
     },
     "metadata": {},
     "output_type": "display_data"
    }
   ],
   "source": [
    "data_merged.plot.scatter(x='AVHRS', y='EMPLRATE')"
   ]
  },
  {
   "cell_type": "markdown",
   "metadata": {},
   "source": [
    "Perhaps a graph showing that the female employment rate is especially large in DK compared to other countries. "
   ]
  },
  {
   "cell_type": "markdown",
   "metadata": {},
   "source": [
    "# Conclusion"
   ]
  },
  {
   "cell_type": "markdown",
   "metadata": {},
   "source": [
    "ADD CONCISE CONLUSION."
   ]
  }
 ],
 "metadata": {
  "kernelspec": {
   "display_name": "base",
   "language": "python",
   "name": "python3"
  },
  "language_info": {
   "codemirror_mode": {
    "name": "ipython",
    "version": 3
   },
   "file_extension": ".py",
   "mimetype": "text/x-python",
   "name": "python",
   "nbconvert_exporter": "python",
   "pygments_lexer": "ipython3",
   "version": "3.11.7"
  },
  "toc-autonumbering": true,
  "vscode": {
   "interpreter": {
    "hash": "47ef90cdf3004d3f859f1fb202523c65c07ba7c22eefd261b181f4744e2d0403"
   }
  }
 },
 "nbformat": 4,
 "nbformat_minor": 4
}
