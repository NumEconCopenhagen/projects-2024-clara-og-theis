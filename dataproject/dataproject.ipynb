{
 "cells": [
  {
   "cell_type": "markdown",
   "metadata": {},
   "source": [
    "# Analysing work effort in Denmark compared to other OECD countries"
   ]
  },
  {
   "cell_type": "markdown",
   "metadata": {},
   "source": [
    "**Table of contents**<a id='toc0_'></a>    \n",
    "- 0. [Imports](#toc1_) \n",
    "- 1. [Read and clean data](#toc2_)    \n",
    "- 2. [Explore each data set](#toc3_)   \n",
    "- 3. [Merge datasets](#toc4_)   \n",
    "- 4. [Analysis](#toc5_) \n",
    "- 5. [Conclusion](#toc6_) \n",
    "\n",
    "\n",
    "<!-- vscode-jupyter-toc-config\n",
    "\tnumbering=true\n",
    "\tanchor=true\n",
    "\tflat=false\n",
    "\tminLevel=2\n",
    "\tmaxLevel=6\n",
    "\t/vscode-jupyter-toc-config -->\n",
    "<!-- THIS CELL WILL BE REPLACED ON TOC UPDATE. DO NOT WRITE YOUR TEXT IN THIS CELL -->"
   ]
  },
  {
   "cell_type": "markdown",
   "metadata": {},
   "source": [
    "## <a id='toc1_'></a>[0. Imports](#toc0_)"
   ]
  },
  {
   "cell_type": "markdown",
   "metadata": {},
   "source": [
    "Imports and set magics:"
   ]
  },
  {
   "cell_type": "code",
   "execution_count": null,
   "metadata": {},
   "outputs": [],
   "source": [
    "#pip install pandasdmx\n",
    "#pip install geopandas"
   ]
  },
  {
   "cell_type": "code",
   "execution_count": null,
   "metadata": {},
   "outputs": [],
   "source": [
    "import pandas as pd\n",
    "import pandasdmx as pdmx\n",
    "import numpy as np\n",
    "import matplotlib.pyplot as plt\n",
    "import ipywidgets as widgets\n",
    "import geopandas as gpd\n",
    "from mpl_toolkits.axes_grid1.axes_divider import make_axes_locatable\n",
    "from IPython.display import HTML\n",
    "\n",
    "# autoreload modules when code is run\n",
    "%load_ext autoreload\n",
    "%autoreload 2\n",
    "\n",
    "# user written modules\n",
    "import dataproject"
   ]
  },
  {
   "cell_type": "markdown",
   "metadata": {},
   "source": [
    "## <a id='toc2_'></a>[1. Read and clean data](#toc0_)"
   ]
  },
  {
   "cell_type": "markdown",
   "metadata": {},
   "source": [
    "In this data project we investigate the total work effort in Denmark. Specifically, we examine how the working hours per person employed in OECD countries have evolved over time, with a special focus on Denmark's position relative to others. Additionaly, we explore the relationship between employment rates and working hours per person employed across OECD countries. \n",
    "\n",
    "The two used datasets for the analysis is imported from the OECD database (https://data.oecd.org). Both datasets contain annual data from 2008 to 2022. We employ the following datasets:\n",
    "-  **Level of GDP per capita and productivity - Average hours worked per person employed:** The dataset contains data on average hours worked per person employed measured as hours per year in OECD countries. \n",
    "- **Short-Term Labour Market Statistics - Employment Rate:** The dataset contains data on employment rates measured as the percentage of 15-64 year olds who are employed in each OECD country. The dataset contains employment rates for females, males and all. "
   ]
  },
  {
   "cell_type": "markdown",
   "metadata": {},
   "source": [
    "Importing data on employment rates:"
   ]
  },
  {
   "cell_type": "code",
   "execution_count": null,
   "metadata": {},
   "outputs": [],
   "source": [
    "# Fetching data\n",
    "emplrate = dataproject.fetching_data_emplrate()\n",
    "emplrate.head()"
   ]
  },
  {
   "cell_type": "markdown",
   "metadata": {},
   "source": [
    "Cleaning the data:"
   ]
  },
  {
   "cell_type": "code",
   "execution_count": null,
   "metadata": {},
   "outputs": [],
   "source": [
    "# Drop measure and frequency\n",
    "emplrate.drop(['MEASURE', 'FREQUENCY'], axis=1, inplace=True) \n",
    "\n",
    "# Rename \n",
    "emplrate.rename(columns = {'TIME_PERIOD':'YEAR', 'value':'EMPLRATE'}, inplace=True)\n",
    "emplrate['SUBJECT'].replace({'LREM64FE': 'Female', 'LREM64MA': 'Male', 'LREM64TT': 'All'}, inplace=True)\n",
    "emplrate"
   ]
  },
  {
   "cell_type": "markdown",
   "metadata": {},
   "source": [
    "Importing data on average hours worked per person employed:"
   ]
  },
  {
   "cell_type": "code",
   "execution_count": null,
   "metadata": {},
   "outputs": [],
   "source": [
    "# Fetching data\n",
    "hours = dataproject.fetching_data_hours()\n",
    "hours.head()"
   ]
  },
  {
   "cell_type": "markdown",
   "metadata": {},
   "source": [
    "Cleaning the data:"
   ]
  },
  {
   "cell_type": "code",
   "execution_count": null,
   "metadata": {},
   "outputs": [],
   "source": [
    "# Drop subject and measure\n",
    "hours.drop(['SUBJECT', 'MEASURE'], axis=1, inplace=True) \n",
    "\n",
    "# Rename \n",
    "hours.rename(columns = {'TIME_PERIOD':'YEAR', 'value':'AVHRS'}, inplace=True)\n",
    "hours"
   ]
  },
  {
   "cell_type": "markdown",
   "metadata": {},
   "source": [
    "## <a id='toc3_'></a>[2. Explore each data set](#toc0_)"
   ]
  },
  {
   "cell_type": "markdown",
   "metadata": {},
   "source": [
    "To get a quick overview of the data, we show some summary statistics for each OECD country across all years:"
   ]
  },
  {
   "cell_type": "code",
   "execution_count": null,
   "metadata": {},
   "outputs": [],
   "source": [
    "# Compute descriptive statistics for a selected country and gender\n",
    "def descriptive_stats(country, gender):\n",
    "    # Filter data for the selected country and gender\n",
    "    country_gender_data_empl = emplrate[(emplrate['LOCATION'] == country) & (emplrate['SUBJECT'] == gender)]\n",
    "    country_data_hours = hours[hours['LOCATION'] == country]\n",
    "\n",
    "    # Employment Rate statistics\n",
    "    mean_emplrate = country_gender_data_empl['EMPLRATE'].mean()\n",
    "    median_emplrate = country_gender_data_empl['EMPLRATE'].median()\n",
    "    p25_emplrate = country_gender_data_empl['EMPLRATE'].quantile(0.25)\n",
    "    p75_emplrate = country_gender_data_empl['EMPLRATE'].quantile(0.75)\n",
    "    max_emplrate = country_gender_data_empl['EMPLRATE'].max()\n",
    "    min_emplrate = country_gender_data_empl['EMPLRATE'].min()\n",
    "    max_year_empl = country_gender_data_empl[country_gender_data_empl['EMPLRATE'] == max_emplrate]['YEAR'].iloc[0]\n",
    "    min_year_empl = country_gender_data_empl[country_gender_data_empl['EMPLRATE'] == min_emplrate]['YEAR'].iloc[0]\n",
    "\n",
    "    # Hours Worked statistics\n",
    "    mean_hours = country_data_hours['AVHRS'].mean()\n",
    "    median_hours = country_data_hours['AVHRS'].median()\n",
    "    p25_hours = country_data_hours['AVHRS'].quantile(0.25)\n",
    "    p75_hours = country_data_hours['AVHRS'].quantile(0.75)\n",
    "    max_hours = country_data_hours['AVHRS'].max()\n",
    "    min_hours = country_data_hours['AVHRS'].min()\n",
    "    max_year_hours = country_data_hours[country_data_hours['AVHRS'] == max_hours]['YEAR'].iloc[0]\n",
    "    min_year_hours = country_data_hours[country_data_hours['AVHRS'] == min_hours]['YEAR'].iloc[0]\n",
    "\n",
    "    # Prepare data for display\n",
    "    stats_emplrate = pd.DataFrame({\n",
    "        'Statistic': [\n",
    "            'Mean Employment Rate', 'Median Employment Rate', 'P25 Employment Rate', 'P75 Employment Rate',\n",
    "            'Max Employment Rate', 'Min Employment Rate'\n",
    "        ],\n",
    "        'Value': [\n",
    "            mean_emplrate, median_emplrate, p25_emplrate, p75_emplrate,\n",
    "            max_emplrate, min_emplrate\n",
    "        ],\n",
    "        'Year': [\n",
    "            '', '', '', '',\n",
    "            max_year_empl, min_year_empl\n",
    "        ]\n",
    "    })\n",
    "\n",
    "    stats_hours = pd.DataFrame({\n",
    "        'Statistic': [\n",
    "            'Mean Hours Worked', 'Median Hours Worked', 'P25 Hours Worked', 'P75 Hours Worked',\n",
    "            'Max Hours Worked', 'Min Hours Worked'\n",
    "        ],\n",
    "        'Value': [\n",
    "            mean_hours, median_hours, p25_hours, p75_hours,\n",
    "            max_hours, min_hours\n",
    "        ],\n",
    "        'Year': [\n",
    "            '', '', '', '',\n",
    "            max_year_hours, min_year_hours\n",
    "        ]\n",
    "    })\n",
    "\n",
    "    # Display the DataFrames side by side\n",
    "    html = (\n",
    "        stats_emplrate.to_html(index=False) +\n",
    "        \"<br>\" +\n",
    "        stats_hours.to_html(index=False)\n",
    "    )\n",
    "    display(HTML(html))\n",
    "\n",
    "# Dropdown widget for country selection\n",
    "countries = emplrate['LOCATION'].unique()\n",
    "country_dropdown = widgets.Dropdown(options=countries, description='Country:')\n",
    "\n",
    "# Dropdown for gender selection\n",
    "gender_dropdown = widgets.Dropdown(options=['All', 'Male', 'Female'], value='All', description='Gender:')\n",
    "\n",
    "# Define interactive widget to update stats based on dropdown selections\n",
    "widgets.interactive(descriptive_stats, country=country_dropdown, gender=gender_dropdown)\n"
   ]
  },
  {
   "cell_type": "markdown",
   "metadata": {},
   "source": [
    "The hours worked statistics has no gender divided information so the gender dropdown menu only works for the employment rate."
   ]
  },
  {
   "cell_type": "markdown",
   "metadata": {},
   "source": [
    "To get a sense of the general level of working hours and employment rates we report the average working hours and average employment rate across all OECD countries in each year from 2008 to 2022:"
   ]
  },
  {
   "cell_type": "code",
   "execution_count": null,
   "metadata": {},
   "outputs": [],
   "source": [
    "emplrate_ = emplrate.copy()\n",
    "hours_ = hours.copy()\n",
    "\n",
    "# Calculate mean employment rate for all OECD countries each year\n",
    "empl_all = emplrate_[emplrate_['SUBJECT'] == 'All'].groupby('YEAR')['EMPLRATE'].agg(['mean'])\n",
    "empl_female = emplrate_[emplrate_['SUBJECT'] == 'Female'].groupby('YEAR')['EMPLRATE'].agg(['mean'])\n",
    "empl_male = emplrate_[emplrate_['SUBJECT'] == 'Male'].groupby('YEAR')['EMPLRATE'].agg(['mean'])\n",
    "\n",
    "# Rename columns\n",
    "empl_all.rename(columns= {'mean':'All'},inplace=True)\n",
    "empl_female.rename(columns= {'mean':'Female'},inplace=True)\n",
    "empl_male.rename(columns= {'mean':'Male'},inplace=True)\n",
    "\n",
    "# Calculate mean working hours for all OECD countries each year\n",
    "hours_all = hours_.groupby('YEAR')['AVHRS'].agg(['mean'])\n",
    "\n",
    "# Rename columns\n",
    "hours_all.rename(columns= {'mean':'All'},inplace=True)\n",
    "\n",
    "#Combine the mean employment rates for all subjects into one table\n",
    "mean_table = pd.concat([empl_all, empl_female, empl_male, hours_all], axis=1)\n",
    "\n",
    "# Create a MultiIndex for the columns\n",
    "mean_table.columns = pd.MultiIndex.from_tuples([\n",
    "    ('Mean employment rate across OECD countries', 'All'), \n",
    "    ('Mean employment rate across OECD countries', 'Female'), \n",
    "    ('Mean employment rate across OECD countries', 'Male'),\n",
    "    ('Mean working hours across OECD countries', 'All')\n",
    "])\n",
    "\n",
    "mean_table "
   ]
  },
  {
   "cell_type": "markdown",
   "metadata": {},
   "source": [
    "It is clear that on average the female employment rate is lower than for men but the level of employment rates has not changed that much over time. While there is no clear trend in the average employment rate the working hours have been decreasing over time."
   ]
  },
  {
   "cell_type": "markdown",
   "metadata": {},
   "source": [
    "To further analyse the data we create an interactive plot that illustrates the employments rates of 2022 across OECD countries with a drop down menu that enables the graph to show employment rates for males, females and all, respectively. This shows which countries are included in the 'emplrate' dataset and indicates the current differences in employment rates across OECD countries:"
   ]
  },
  {
   "cell_type": "code",
   "execution_count": null,
   "metadata": {},
   "outputs": [],
   "source": [
    "# Import world map data\n",
    "worldmap = gpd.read_file(gpd.datasets.get_path('naturalearth_lowres'))\n",
    "\n",
    "def create_map_emplrate(gender):\n",
    "    # Looking at employment rates in 2022\n",
    "    emplrate_map = emplrate[(emplrate['SUBJECT'] == gender) & (emplrate['YEAR'] == '2022')]\n",
    "\n",
    "    # Merge employment rate data and world map data\n",
    "    mapdata_emplrate = pd.merge(worldmap, emplrate_map, how=\"left\", left_on='iso_a3', right_on='LOCATION')\n",
    "\n",
    "    # Plot the map\n",
    "    fig, ax = plt.subplots(1, 1, figsize=(20, 16))\n",
    "    divider = make_axes_locatable(ax)\n",
    "    cax = divider.append_axes(\"right\", size=\"2%\", pad=\"0.5%\")\n",
    "    mapdata_emplrate.plot(column=\"EMPLRATE\", ax=ax, cax=cax, cmap='OrRd', legend=True, legend_kwds={\"label\": f\"Employment rate in 2022 for {gender} (%)\"}, missing_kwds={'color':'lightgrey'}, vmin=45, vmax=85)\n",
    "    ax.set_title(f'Employment rate for OECD countries in 2022', size=20)\n",
    "    plt.show()\n",
    "\n",
    "# Dropdown menu \n",
    "gender_dropdown = widgets.Dropdown(options=['All', 'Male', 'Female'], value='All', description='Gender:')\n",
    "widgets.interactive(create_map_emplrate, gender=gender_dropdown)"
   ]
  },
  {
   "cell_type": "markdown",
   "metadata": {},
   "source": [
    "Another world map illustrates the average hours worked per person employed in 2022 across OECD countries. This shows which countries are included in the 'hours' dataset and indicates the differences in working hours across OECD countries:"
   ]
  },
  {
   "cell_type": "code",
   "execution_count": null,
   "metadata": {},
   "outputs": [],
   "source": [
    "# Looking at working hours in 2022\n",
    "hours_map = hours[hours['YEAR'] == '2022']\n",
    "\n",
    "# Merge employment rate data and world map data\n",
    "mapdata_hours = pd.merge(worldmap, hours_map, how=\"left\", left_on='iso_a3', right_on='LOCATION')\n",
    "\n",
    "# Plot the map\n",
    "fig, ax = plt.subplots(1, 1, figsize=(20, 16))\n",
    "divider = make_axes_locatable(ax)\n",
    "cax = divider.append_axes(\"right\", size=\"2%\", pad=\"0.5%\")\n",
    "mapdata_hours.plot(column=\"AVHRS\", ax=ax, cax=cax, cmap='OrRd', legend=True, legend_kwds={\"label\": f\"Average working hours per person employed (hours per year)\"}, missing_kwds={'color':'lightgrey'}, vmin=1400, vmax=2000)\n",
    "ax.set_title(f'Average working hours per person employed in OECD countries in 2022', size=20)\n",
    "plt.show()"
   ]
  },
  {
   "cell_type": "markdown",
   "metadata": {},
   "source": [
    "## <a id='toc4_'></a>[3. Merge datasets](#toc0_)"
   ]
  },
  {
   "cell_type": "markdown",
   "metadata": {},
   "source": [
    "Merge the datasets on employment rates and average hours per person employed in OECD countries. We do a many-to-one inner merge because we want to include employment rates for females, males and all even though this specification does not exist for the 'hours' dataset but we only want to keep observations where both an employment rate and average working hours exists:"
   ]
  },
  {
   "cell_type": "code",
   "execution_count": null,
   "metadata": {},
   "outputs": [],
   "source": [
    "# Merge the two datasets\n",
    "data_merged = pd.merge(emplrate,hours,how='inner',on=['LOCATION','YEAR'])\n",
    "data_merged"
   ]
  },
  {
   "cell_type": "markdown",
   "metadata": {},
   "source": [
    "## <a id='toc5_'></a>[4. Analysis](#toc0_)"
   ]
  },
  {
   "cell_type": "markdown",
   "metadata": {},
   "source": [
    "We plot the average hours worked per person employed over time for each of the OECD countries in the analysis to get an idea of how the working hours have evolved across time and zoom in on the countries separately:"
   ]
  },
  {
   "cell_type": "code",
   "execution_count": null,
   "metadata": {},
   "outputs": [],
   "source": [
    "# Define function to update plot based on selected LOCATION\n",
    "def update_plot(location):\n",
    "    fig = plt.figure(figsize=(10, 6))\n",
    "    ax = fig.add_subplot(1,1,1)\n",
    "    ax.plot(data_merged[(data_merged['LOCATION'] == location) & (data_merged['SUBJECT'] == 'All')]['YEAR'], \n",
    "            data_merged[(data_merged['LOCATION'] == location) & (data_merged['SUBJECT'] == 'All')]['AVHRS'])\n",
    "    ax.set_xlabel('Year')\n",
    "    ax.set_ylabel('Average hours worked per person employed (hours per year)')\n",
    "    ax.set_title(f'Average hours worked per person employed across time for {location}')\n",
    "    plt.show()\n",
    "\n",
    "# Create dropdown menu for selecting LOCATION\n",
    "location_dropdown = widgets.Dropdown(options=data_merged['LOCATION'].unique(), value='DNK', description='Location:')\n",
    "\n",
    "# Define interactive widget to update plot based on dropdown selection\n",
    "widgets.interactive(update_plot, location=location_dropdown)"
   ]
  },
  {
   "cell_type": "markdown",
   "metadata": {},
   "source": [
    "There is a general trend in OECD countries where working hours per person employed have declined in the period 2008-2022. This is also the case for Denmark. Though COVID-19 creates some noise in the graph there is a general negative trend."
   ]
  },
  {
   "cell_type": "markdown",
   "metadata": {},
   "source": [
    "In a scatterplot the employments rate is plotted against the average hours worked in 2022 for all OECD countries:"
   ]
  },
  {
   "cell_type": "code",
   "execution_count": null,
   "metadata": {},
   "outputs": [],
   "source": [
    "# Plot employment rates across average working hours per person employed\n",
    "plt.figure(figsize=(10, 6))\n",
    "plt.scatter(x=data_merged[(data_merged['SUBJECT'] == 'All') & (data_merged['YEAR'] == '2022')]['AVHRS'], \n",
    "            y=data_merged[(data_merged['SUBJECT'] == 'All') & (data_merged['YEAR'] == '2022')]['EMPLRATE'])\n",
    "\n",
    "plt.xlabel('Average hours worked per person employed (hours per year)')\n",
    "plt.ylabel('Employment rate (%)')\n",
    "plt.title('Scatter plot of employment rate against average working hours across OECD countries in 2022')\n",
    "\n",
    "# Annotate points with country names\n",
    "for index, row in data_merged[(data_merged['SUBJECT'] == 'All') & (data_merged['YEAR'] == '2022')].iterrows():\n",
    "    plt.annotate(row['LOCATION'], (row['AVHRS'], row['EMPLRATE']))\n",
    "\n",
    "plt.show()"
   ]
  },
  {
   "cell_type": "markdown",
   "metadata": {},
   "source": [
    "The graph shows that Denmark ranks very low when it comes to working hours per person employed. At the same time relatively many danes between 15 and 64 years is in employment compared to other OECD countries."
   ]
  },
  {
   "cell_type": "markdown",
   "metadata": {},
   "source": [
    "A bar chart compares the employment rates in 2022 of OECD countries and highlights the rank of Denmark. A drop down menu enables the plot to how employment rates for males and females:"
   ]
  },
  {
   "cell_type": "code",
   "execution_count": null,
   "metadata": {},
   "outputs": [],
   "source": [
    "# Plotting a bar chart of the male and female employment rates in 2022\n",
    "def update_plot(gender):\n",
    "    plt.figure(figsize=(10, 6))\n",
    "    \n",
    "    # Filter data for the selected gender and year\n",
    "    filtered_data = data_merged[(data_merged['YEAR'] == '2022') & (data_merged['SUBJECT'] == gender)]\n",
    "\n",
    "    # Sort the data in descending order of employment rate\n",
    "    sorted_data = filtered_data.sort_values(by='EMPLRATE', ascending=False)\n",
    "\n",
    "     # Plotting the data\n",
    "    plt.bar(sorted_data['LOCATION'], sorted_data['EMPLRATE'], color='skyblue')\n",
    "    plt.bar(sorted_data[sorted_data['LOCATION'] == 'DNK']['LOCATION'], sorted_data[sorted_data['LOCATION'] == 'DNK']['EMPLRATE'], color='blue')\n",
    "    \n",
    "    plt.xlabel('Country')\n",
    "    plt.ylabel('Employment Rate (%)')\n",
    "    plt.title(f'{gender} Employment Rates in OECD Countries in 2022')\n",
    "    plt.xticks(rotation=45, ha='right')  # Rotate x-axis labels for better readability\n",
    "    plt.show()\n",
    "\n",
    "# Create dropdown menu for selecting gender\n",
    "gender_dropdown = widgets.Dropdown(options=['Male', 'Female'], value='Female', description='Gender:')\n",
    "\n",
    "# Define interactive widget to update plot based on dropdown selection\n",
    "widgets.interactive(update_plot, gender=gender_dropdown)"
   ]
  },
  {
   "cell_type": "markdown",
   "metadata": {},
   "source": [
    "The female employment rate is especially large in Denmark compared to the other OECD countries. "
   ]
  },
  {
   "cell_type": "markdown",
   "metadata": {},
   "source": [
    "## <a id='toc6_'></a>[5. Conclusion](#toc0_)"
   ]
  },
  {
   "cell_type": "markdown",
   "metadata": {},
   "source": [
    "Our analysis shows that average working hours per person employed has decreased across time for most of the OECD countries. \n",
    "Specifically, Denmark ranks as one of the OECD countries with the lowest average working hours per person employed in 2022. However, the employment rate in Denmark in 2022 is quite large compared to a lot of the other OECD countries. This is, among other things, because the female employment rate in Denmark is relatively large. Thus we cannot conclude anything umambiguous about the total work effort in Denmark. "
   ]
  }
 ],
 "metadata": {
  "kernelspec": {
   "display_name": "base",
   "language": "python",
   "name": "python3"
  },
  "language_info": {
   "codemirror_mode": {
    "name": "ipython",
    "version": 3
   },
   "file_extension": ".py",
   "mimetype": "text/x-python",
   "name": "python",
   "nbconvert_exporter": "python",
   "pygments_lexer": "ipython3",
   "version": "3.11.7"
  },
  "toc-autonumbering": true,
  "vscode": {
   "interpreter": {
    "hash": "47ef90cdf3004d3f859f1fb202523c65c07ba7c22eefd261b181f4744e2d0403"
   }
  }
 },
 "nbformat": 4,
 "nbformat_minor": 4
}
