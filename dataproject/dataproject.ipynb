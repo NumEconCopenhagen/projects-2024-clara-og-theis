{
 "cells": [
  {
   "cell_type": "markdown",
   "metadata": {},
   "source": [
    "# Analysing work effort in Denmark compared to other OECD countries"
   ]
  },
  {
   "cell_type": "markdown",
   "metadata": {},
   "source": [
    "**Table of contents**<a id='toc0_'></a>    \n",
    "- 0. [Imports](#toc1_) \n",
    "- 1. [Read and clean data](#toc2_)    \n",
    "- 2. [Explore each data set](#toc3_)   \n",
    "- 3. [Merge datasets](#toc4_)   \n",
    "- 4. [Analysis](#toc5_) \n",
    "- 5. [Conclusion](#toc6_) \n",
    "\n",
    "\n",
    "<!-- vscode-jupyter-toc-config\n",
    "\tnumbering=true\n",
    "\tanchor=true\n",
    "\tflat=false\n",
    "\tminLevel=2\n",
    "\tmaxLevel=6\n",
    "\t/vscode-jupyter-toc-config -->\n",
    "<!-- THIS CELL WILL BE REPLACED ON TOC UPDATE. DO NOT WRITE YOUR TEXT IN THIS CELL -->"
   ]
  },
  {
   "cell_type": "markdown",
   "metadata": {},
   "source": [
    "## <a id='toc1_'></a>[0. Imports](#toc0_)"
   ]
  },
  {
   "cell_type": "markdown",
   "metadata": {},
   "source": [
    "Imports and set magics:"
   ]
  },
  {
   "cell_type": "code",
   "execution_count": 1,
   "metadata": {},
   "outputs": [],
   "source": [
    "#pip install pandasdmx\n",
    "#pip install geopandas"
   ]
  },
  {
   "cell_type": "code",
   "execution_count": 2,
   "metadata": {},
   "outputs": [
    {
     "name": "stderr",
     "output_type": "stream",
     "text": [
      "/Users/claraengelund/anaconda3/lib/python3.11/site-packages/pandasdmx/remote.py:11: RuntimeWarning: optional dependency requests_cache is not installed; cache options to Session() have no effect\n",
      "  warn(\n"
     ]
    }
   ],
   "source": [
    "import pandas as pd\n",
    "import pandasdmx as pdmx\n",
    "import numpy as np\n",
    "import matplotlib.pyplot as plt\n",
    "import ipywidgets as widgets\n",
    "import geopandas as gpd\n",
    "from mpl_toolkits.axes_grid1.axes_divider import make_axes_locatable\n",
    "from IPython.display import HTML\n",
    "\n",
    "# autoreload modules when code is run\n",
    "%load_ext autoreload\n",
    "%autoreload 2\n",
    "\n",
    "# user written modules\n",
    "import dataproject"
   ]
  },
  {
   "cell_type": "markdown",
   "metadata": {},
   "source": [
    "## <a id='toc2_'></a>[1. Read and clean data](#toc0_)"
   ]
  },
  {
   "cell_type": "markdown",
   "metadata": {},
   "source": [
    "In this data project we investigate the total work effort in Denmark. Specifically, we examine how the working hours per person employed in OECD countries have evolved over time, with a special focus on Denmark's position relative to others. Additionaly, we explore the relationship between employment rates and working hours per person employed across OECD countries. \n",
    "\n",
    "The two used datasets for the analysis is imported from the OECD database (https://data.oecd.org). Both datasets contain annual data from 2008 to 2022. We employ the following datasets:\n",
    "-  **Level of GDP per capita and productivity - Average hours worked per person employed:** The dataset contains data on average hours worked per person employed measured as hours per year in OECD countries. \n",
    "- **Short-Term Labour Market Statistics - Employment Rate:** The dataset contains data on employment rates measured as the percentage of 15-64 year olds who are employed in each OECD country. The dataset contains employment rates for females, males and all. "
   ]
  },
  {
   "cell_type": "markdown",
   "metadata": {},
   "source": [
    "Importing data on employment rates:"
   ]
  },
  {
   "cell_type": "code",
   "execution_count": 5,
   "metadata": {},
   "outputs": [
    {
     "data": {
      "text/html": [
       "<div>\n",
       "<style scoped>\n",
       "    .dataframe tbody tr th:only-of-type {\n",
       "        vertical-align: middle;\n",
       "    }\n",
       "\n",
       "    .dataframe tbody tr th {\n",
       "        vertical-align: top;\n",
       "    }\n",
       "\n",
       "    .dataframe thead th {\n",
       "        text-align: right;\n",
       "    }\n",
       "</style>\n",
       "<table border=\"1\" class=\"dataframe\">\n",
       "  <thead>\n",
       "    <tr style=\"text-align: right;\">\n",
       "      <th></th>\n",
       "      <th>LOCATION</th>\n",
       "      <th>SUBJECT</th>\n",
       "      <th>YEAR</th>\n",
       "      <th>EMPLRATE</th>\n",
       "    </tr>\n",
       "  </thead>\n",
       "  <tbody>\n",
       "    <tr>\n",
       "      <th>0</th>\n",
       "      <td>AUS</td>\n",
       "      <td>Female</td>\n",
       "      <td>2008</td>\n",
       "      <td>66.71808</td>\n",
       "    </tr>\n",
       "    <tr>\n",
       "      <th>1</th>\n",
       "      <td>AUS</td>\n",
       "      <td>Female</td>\n",
       "      <td>2009</td>\n",
       "      <td>66.30235</td>\n",
       "    </tr>\n",
       "    <tr>\n",
       "      <th>2</th>\n",
       "      <td>AUS</td>\n",
       "      <td>Female</td>\n",
       "      <td>2010</td>\n",
       "      <td>66.14607</td>\n",
       "    </tr>\n",
       "    <tr>\n",
       "      <th>3</th>\n",
       "      <td>AUS</td>\n",
       "      <td>Female</td>\n",
       "      <td>2011</td>\n",
       "      <td>66.65070</td>\n",
       "    </tr>\n",
       "    <tr>\n",
       "      <th>4</th>\n",
       "      <td>AUS</td>\n",
       "      <td>Female</td>\n",
       "      <td>2012</td>\n",
       "      <td>66.57001</td>\n",
       "    </tr>\n",
       "  </tbody>\n",
       "</table>\n",
       "</div>"
      ],
      "text/plain": [
       "  LOCATION SUBJECT  YEAR  EMPLRATE\n",
       "0      AUS  Female  2008  66.71808\n",
       "1      AUS  Female  2009  66.30235\n",
       "2      AUS  Female  2010  66.14607\n",
       "3      AUS  Female  2011  66.65070\n",
       "4      AUS  Female  2012  66.57001"
      ]
     },
     "execution_count": 5,
     "metadata": {},
     "output_type": "execute_result"
    }
   ],
   "source": [
    "# Fetching data\n",
    "emplrate = dataproject.fetching_data_emplrate()\n",
    "emplrate.head()"
   ]
  },
  {
   "cell_type": "markdown",
   "metadata": {},
   "source": [
    "Cleaning the data:"
   ]
  },
  {
   "cell_type": "code",
   "execution_count": 4,
   "metadata": {},
   "outputs": [
    {
     "ename": "KeyError",
     "evalue": "\"['MEASURE', 'FREQUENCY'] not found in axis\"",
     "output_type": "error",
     "traceback": [
      "\u001b[0;31m---------------------------------------------------------------------------\u001b[0m",
      "\u001b[0;31mKeyError\u001b[0m                                  Traceback (most recent call last)",
      "Cell \u001b[0;32mIn[4], line 2\u001b[0m\n\u001b[1;32m      1\u001b[0m \u001b[38;5;66;03m# Drop measure and frequency\u001b[39;00m\n\u001b[0;32m----> 2\u001b[0m emplrate\u001b[38;5;241m.\u001b[39mdrop([\u001b[38;5;124m'\u001b[39m\u001b[38;5;124mMEASURE\u001b[39m\u001b[38;5;124m'\u001b[39m, \u001b[38;5;124m'\u001b[39m\u001b[38;5;124mFREQUENCY\u001b[39m\u001b[38;5;124m'\u001b[39m], axis\u001b[38;5;241m=\u001b[39m\u001b[38;5;241m1\u001b[39m, inplace\u001b[38;5;241m=\u001b[39m\u001b[38;5;28;01mTrue\u001b[39;00m) \n\u001b[1;32m      4\u001b[0m \u001b[38;5;66;03m# Rename \u001b[39;00m\n\u001b[1;32m      5\u001b[0m emplrate\u001b[38;5;241m.\u001b[39mrename(columns \u001b[38;5;241m=\u001b[39m {\u001b[38;5;124m'\u001b[39m\u001b[38;5;124mTIME_PERIOD\u001b[39m\u001b[38;5;124m'\u001b[39m:\u001b[38;5;124m'\u001b[39m\u001b[38;5;124mYEAR\u001b[39m\u001b[38;5;124m'\u001b[39m, \u001b[38;5;124m'\u001b[39m\u001b[38;5;124mvalue\u001b[39m\u001b[38;5;124m'\u001b[39m:\u001b[38;5;124m'\u001b[39m\u001b[38;5;124mEMPLRATE\u001b[39m\u001b[38;5;124m'\u001b[39m}, inplace\u001b[38;5;241m=\u001b[39m\u001b[38;5;28;01mTrue\u001b[39;00m)\n",
      "File \u001b[0;32m~/anaconda3/lib/python3.11/site-packages/pandas/core/frame.py:5344\u001b[0m, in \u001b[0;36mDataFrame.drop\u001b[0;34m(self, labels, axis, index, columns, level, inplace, errors)\u001b[0m\n\u001b[1;32m   5196\u001b[0m \u001b[38;5;28;01mdef\u001b[39;00m \u001b[38;5;21mdrop\u001b[39m(\n\u001b[1;32m   5197\u001b[0m     \u001b[38;5;28mself\u001b[39m,\n\u001b[1;32m   5198\u001b[0m     labels: IndexLabel \u001b[38;5;241m|\u001b[39m \u001b[38;5;28;01mNone\u001b[39;00m \u001b[38;5;241m=\u001b[39m \u001b[38;5;28;01mNone\u001b[39;00m,\n\u001b[0;32m   (...)\u001b[0m\n\u001b[1;32m   5205\u001b[0m     errors: IgnoreRaise \u001b[38;5;241m=\u001b[39m \u001b[38;5;124m\"\u001b[39m\u001b[38;5;124mraise\u001b[39m\u001b[38;5;124m\"\u001b[39m,\n\u001b[1;32m   5206\u001b[0m ) \u001b[38;5;241m-\u001b[39m\u001b[38;5;241m>\u001b[39m DataFrame \u001b[38;5;241m|\u001b[39m \u001b[38;5;28;01mNone\u001b[39;00m:\n\u001b[1;32m   5207\u001b[0m \u001b[38;5;250m    \u001b[39m\u001b[38;5;124;03m\"\"\"\u001b[39;00m\n\u001b[1;32m   5208\u001b[0m \u001b[38;5;124;03m    Drop specified labels from rows or columns.\u001b[39;00m\n\u001b[1;32m   5209\u001b[0m \n\u001b[0;32m   (...)\u001b[0m\n\u001b[1;32m   5342\u001b[0m \u001b[38;5;124;03m            weight  1.0     0.8\u001b[39;00m\n\u001b[1;32m   5343\u001b[0m \u001b[38;5;124;03m    \"\"\"\u001b[39;00m\n\u001b[0;32m-> 5344\u001b[0m     \u001b[38;5;28;01mreturn\u001b[39;00m \u001b[38;5;28msuper\u001b[39m()\u001b[38;5;241m.\u001b[39mdrop(\n\u001b[1;32m   5345\u001b[0m         labels\u001b[38;5;241m=\u001b[39mlabels,\n\u001b[1;32m   5346\u001b[0m         axis\u001b[38;5;241m=\u001b[39maxis,\n\u001b[1;32m   5347\u001b[0m         index\u001b[38;5;241m=\u001b[39mindex,\n\u001b[1;32m   5348\u001b[0m         columns\u001b[38;5;241m=\u001b[39mcolumns,\n\u001b[1;32m   5349\u001b[0m         level\u001b[38;5;241m=\u001b[39mlevel,\n\u001b[1;32m   5350\u001b[0m         inplace\u001b[38;5;241m=\u001b[39minplace,\n\u001b[1;32m   5351\u001b[0m         errors\u001b[38;5;241m=\u001b[39merrors,\n\u001b[1;32m   5352\u001b[0m     )\n",
      "File \u001b[0;32m~/anaconda3/lib/python3.11/site-packages/pandas/core/generic.py:4711\u001b[0m, in \u001b[0;36mNDFrame.drop\u001b[0;34m(self, labels, axis, index, columns, level, inplace, errors)\u001b[0m\n\u001b[1;32m   4709\u001b[0m \u001b[38;5;28;01mfor\u001b[39;00m axis, labels \u001b[38;5;129;01min\u001b[39;00m axes\u001b[38;5;241m.\u001b[39mitems():\n\u001b[1;32m   4710\u001b[0m     \u001b[38;5;28;01mif\u001b[39;00m labels \u001b[38;5;129;01mis\u001b[39;00m \u001b[38;5;129;01mnot\u001b[39;00m \u001b[38;5;28;01mNone\u001b[39;00m:\n\u001b[0;32m-> 4711\u001b[0m         obj \u001b[38;5;241m=\u001b[39m obj\u001b[38;5;241m.\u001b[39m_drop_axis(labels, axis, level\u001b[38;5;241m=\u001b[39mlevel, errors\u001b[38;5;241m=\u001b[39merrors)\n\u001b[1;32m   4713\u001b[0m \u001b[38;5;28;01mif\u001b[39;00m inplace:\n\u001b[1;32m   4714\u001b[0m     \u001b[38;5;28mself\u001b[39m\u001b[38;5;241m.\u001b[39m_update_inplace(obj)\n",
      "File \u001b[0;32m~/anaconda3/lib/python3.11/site-packages/pandas/core/generic.py:4753\u001b[0m, in \u001b[0;36mNDFrame._drop_axis\u001b[0;34m(self, labels, axis, level, errors, only_slice)\u001b[0m\n\u001b[1;32m   4751\u001b[0m         new_axis \u001b[38;5;241m=\u001b[39m axis\u001b[38;5;241m.\u001b[39mdrop(labels, level\u001b[38;5;241m=\u001b[39mlevel, errors\u001b[38;5;241m=\u001b[39merrors)\n\u001b[1;32m   4752\u001b[0m     \u001b[38;5;28;01melse\u001b[39;00m:\n\u001b[0;32m-> 4753\u001b[0m         new_axis \u001b[38;5;241m=\u001b[39m axis\u001b[38;5;241m.\u001b[39mdrop(labels, errors\u001b[38;5;241m=\u001b[39merrors)\n\u001b[1;32m   4754\u001b[0m     indexer \u001b[38;5;241m=\u001b[39m axis\u001b[38;5;241m.\u001b[39mget_indexer(new_axis)\n\u001b[1;32m   4756\u001b[0m \u001b[38;5;66;03m# Case for non-unique axis\u001b[39;00m\n\u001b[1;32m   4757\u001b[0m \u001b[38;5;28;01melse\u001b[39;00m:\n",
      "File \u001b[0;32m~/anaconda3/lib/python3.11/site-packages/pandas/core/indexes/base.py:7000\u001b[0m, in \u001b[0;36mIndex.drop\u001b[0;34m(self, labels, errors)\u001b[0m\n\u001b[1;32m   6998\u001b[0m \u001b[38;5;28;01mif\u001b[39;00m mask\u001b[38;5;241m.\u001b[39many():\n\u001b[1;32m   6999\u001b[0m     \u001b[38;5;28;01mif\u001b[39;00m errors \u001b[38;5;241m!=\u001b[39m \u001b[38;5;124m\"\u001b[39m\u001b[38;5;124mignore\u001b[39m\u001b[38;5;124m\"\u001b[39m:\n\u001b[0;32m-> 7000\u001b[0m         \u001b[38;5;28;01mraise\u001b[39;00m \u001b[38;5;167;01mKeyError\u001b[39;00m(\u001b[38;5;124mf\u001b[39m\u001b[38;5;124m\"\u001b[39m\u001b[38;5;132;01m{\u001b[39;00mlabels[mask]\u001b[38;5;241m.\u001b[39mtolist()\u001b[38;5;132;01m}\u001b[39;00m\u001b[38;5;124m not found in axis\u001b[39m\u001b[38;5;124m\"\u001b[39m)\n\u001b[1;32m   7001\u001b[0m     indexer \u001b[38;5;241m=\u001b[39m indexer[\u001b[38;5;241m~\u001b[39mmask]\n\u001b[1;32m   7002\u001b[0m \u001b[38;5;28;01mreturn\u001b[39;00m \u001b[38;5;28mself\u001b[39m\u001b[38;5;241m.\u001b[39mdelete(indexer)\n",
      "\u001b[0;31mKeyError\u001b[0m: \"['MEASURE', 'FREQUENCY'] not found in axis\""
     ]
    }
   ],
   "source": [
    "# Drop measure and frequency\n",
    "emplrate.drop(['MEASURE', 'FREQUENCY'], axis=1, inplace=True) \n",
    "\n",
    "# Rename \n",
    "emplrate.rename(columns = {'TIME_PERIOD':'YEAR', 'value':'EMPLRATE'}, inplace=True)\n",
    "emplrate['SUBJECT'].replace({'LREM64FE': 'Female', 'LREM64MA': 'Male', 'LREM64TT': 'All'}, inplace=True)\n",
    "emplrate"
   ]
  },
  {
   "cell_type": "markdown",
   "metadata": {},
   "source": [
    "Importing data on average hours worked per person employed:"
   ]
  },
  {
   "cell_type": "code",
   "execution_count": 6,
   "metadata": {},
   "outputs": [
    {
     "data": {
      "text/html": [
       "<div>\n",
       "<style scoped>\n",
       "    .dataframe tbody tr th:only-of-type {\n",
       "        vertical-align: middle;\n",
       "    }\n",
       "\n",
       "    .dataframe tbody tr th {\n",
       "        vertical-align: top;\n",
       "    }\n",
       "\n",
       "    .dataframe thead th {\n",
       "        text-align: right;\n",
       "    }\n",
       "</style>\n",
       "<table border=\"1\" class=\"dataframe\">\n",
       "  <thead>\n",
       "    <tr style=\"text-align: right;\">\n",
       "      <th></th>\n",
       "      <th>LOCATION</th>\n",
       "      <th>YEAR</th>\n",
       "      <th>AVHRS</th>\n",
       "    </tr>\n",
       "  </thead>\n",
       "  <tbody>\n",
       "    <tr>\n",
       "      <th>0</th>\n",
       "      <td>AUS</td>\n",
       "      <td>2008</td>\n",
       "      <td>1753.556685</td>\n",
       "    </tr>\n",
       "    <tr>\n",
       "      <th>1</th>\n",
       "      <td>AUS</td>\n",
       "      <td>2009</td>\n",
       "      <td>1779.140915</td>\n",
       "    </tr>\n",
       "    <tr>\n",
       "      <th>2</th>\n",
       "      <td>AUS</td>\n",
       "      <td>2010</td>\n",
       "      <td>1755.149446</td>\n",
       "    </tr>\n",
       "    <tr>\n",
       "      <th>3</th>\n",
       "      <td>AUS</td>\n",
       "      <td>2011</td>\n",
       "      <td>1771.541297</td>\n",
       "    </tr>\n",
       "    <tr>\n",
       "      <th>4</th>\n",
       "      <td>AUS</td>\n",
       "      <td>2012</td>\n",
       "      <td>1759.612242</td>\n",
       "    </tr>\n",
       "  </tbody>\n",
       "</table>\n",
       "</div>"
      ],
      "text/plain": [
       "  LOCATION  YEAR        AVHRS\n",
       "0      AUS  2008  1753.556685\n",
       "1      AUS  2009  1779.140915\n",
       "2      AUS  2010  1755.149446\n",
       "3      AUS  2011  1771.541297\n",
       "4      AUS  2012  1759.612242"
      ]
     },
     "execution_count": 6,
     "metadata": {},
     "output_type": "execute_result"
    }
   ],
   "source": [
    "# Fetching data\n",
    "hours = dataproject.fetching_data_hours()\n",
    "hours.head()"
   ]
  },
  {
   "cell_type": "markdown",
   "metadata": {},
   "source": [
    "Cleaning the data:"
   ]
  },
  {
   "cell_type": "code",
   "execution_count": null,
   "metadata": {},
   "outputs": [],
   "source": [
    "# Drop subject and measure\n",
    "hours.drop(['SUBJECT', 'MEASURE'], axis=1, inplace=True) \n",
    "\n",
    "# Rename \n",
    "hours.rename(columns = {'TIME_PERIOD':'YEAR', 'value':'AVHRS'}, inplace=True)\n",
    "hours"
   ]
  },
  {
   "cell_type": "markdown",
   "metadata": {},
   "source": [
    "## <a id='toc3_'></a>[2. Explore each data set](#toc0_)"
   ]
  },
  {
   "cell_type": "markdown",
   "metadata": {},
   "source": [
    "To get a quick overview of the data, we show some summary statistics for each OECD country across all years:"
   ]
  },
  {
   "cell_type": "code",
   "execution_count": null,
   "metadata": {},
   "outputs": [],
   "source": [
    "# Compute descriptive statistics for a selected country and gender\n",
    "def descriptive_stats(country, gender):\n",
    "    # Filter data for the selected country and gender\n",
    "    country_gender_data_empl = emplrate[(emplrate['LOCATION'] == country) & (emplrate['SUBJECT'] == gender)]\n",
    "    country_data_hours = hours[hours['LOCATION'] == country]\n",
    "\n",
    "    # Employment Rate statistics\n",
    "    mean_emplrate = country_gender_data_empl['EMPLRATE'].mean()\n",
    "    median_emplrate = country_gender_data_empl['EMPLRATE'].median()\n",
    "    p25_emplrate = country_gender_data_empl['EMPLRATE'].quantile(0.25)\n",
    "    p75_emplrate = country_gender_data_empl['EMPLRATE'].quantile(0.75)\n",
    "    max_emplrate = country_gender_data_empl['EMPLRATE'].max()\n",
    "    min_emplrate = country_gender_data_empl['EMPLRATE'].min()\n",
    "    max_year_empl = country_gender_data_empl[country_gender_data_empl['EMPLRATE'] == max_emplrate]['YEAR'].iloc[0]\n",
    "    min_year_empl = country_gender_data_empl[country_gender_data_empl['EMPLRATE'] == min_emplrate]['YEAR'].iloc[0]\n",
    "\n",
    "    # Hours Worked statistics\n",
    "    mean_hours = country_data_hours['AVHRS'].mean()\n",
    "    median_hours = country_data_hours['AVHRS'].median()\n",
    "    p25_hours = country_data_hours['AVHRS'].quantile(0.25)\n",
    "    p75_hours = country_data_hours['AVHRS'].quantile(0.75)\n",
    "    max_hours = country_data_hours['AVHRS'].max()\n",
    "    min_hours = country_data_hours['AVHRS'].min()\n",
    "    max_year_hours = country_data_hours[country_data_hours['AVHRS'] == max_hours]['YEAR'].iloc[0]\n",
    "    min_year_hours = country_data_hours[country_data_hours['AVHRS'] == min_hours]['YEAR'].iloc[0]\n",
    "\n",
    "    # Prepare data for display\n",
    "    stats_emplrate = pd.DataFrame({\n",
    "        'Statistic': [\n",
    "            'Mean Employment Rate', 'Median Employment Rate', 'P25 Employment Rate', 'P75 Employment Rate',\n",
    "            'Max Employment Rate', 'Min Employment Rate'\n",
    "        ],\n",
    "        'Value': [\n",
    "            mean_emplrate, median_emplrate, p25_emplrate, p75_emplrate,\n",
    "            max_emplrate, min_emplrate\n",
    "        ],\n",
    "        'Year': [\n",
    "            '', '', '', '',\n",
    "            max_year_empl, min_year_empl\n",
    "        ]\n",
    "    })\n",
    "\n",
    "    stats_hours = pd.DataFrame({\n",
    "        'Statistic': [\n",
    "            'Mean Hours Worked', 'Median Hours Worked', 'P25 Hours Worked', 'P75 Hours Worked',\n",
    "            'Max Hours Worked', 'Min Hours Worked'\n",
    "        ],\n",
    "        'Value': [\n",
    "            mean_hours, median_hours, p25_hours, p75_hours,\n",
    "            max_hours, min_hours\n",
    "        ],\n",
    "        'Year': [\n",
    "            '', '', '', '',\n",
    "            max_year_hours, min_year_hours\n",
    "        ]\n",
    "    })\n",
    "\n",
    "    # Display the DataFrames side by side\n",
    "    html = (\n",
    "        stats_emplrate.to_html(index=False) +\n",
    "        \"<br>\" +\n",
    "        stats_hours.to_html(index=False)\n",
    "    )\n",
    "    display(HTML(html))\n",
    "\n",
    "# Dropdown widget for country selection\n",
    "countries = emplrate['LOCATION'].unique()\n",
    "country_dropdown = widgets.Dropdown(options=countries, description='Country:')\n",
    "\n",
    "# Dropdown for gender selection\n",
    "gender_dropdown = widgets.Dropdown(options=['All', 'Male', 'Female'], value='All', description='Gender:')\n",
    "\n",
    "# Define interactive widget to update stats based on dropdown selections\n",
    "widgets.interactive(descriptive_stats, country=country_dropdown, gender=gender_dropdown)\n"
   ]
  },
  {
   "cell_type": "markdown",
   "metadata": {},
   "source": [
    "The hours worked statistics has no gender divided information so the gender dropdown menu only works for the employment rate."
   ]
  },
  {
   "cell_type": "markdown",
   "metadata": {},
   "source": [
    "To get a sense of the general level of working hours and employment rates we report the average working hours and average employment rate across all OECD countries in each year from 2008 to 2022:"
   ]
  },
  {
   "cell_type": "code",
   "execution_count": null,
   "metadata": {},
   "outputs": [],
   "source": [
    "emplrate_ = emplrate.copy()\n",
    "hours_ = hours.copy()\n",
    "\n",
    "# Calculate mean employment rate for all OECD countries each year\n",
    "empl_all = emplrate_[emplrate_['SUBJECT'] == 'All'].groupby('YEAR')['EMPLRATE'].agg(['mean'])\n",
    "empl_female = emplrate_[emplrate_['SUBJECT'] == 'Female'].groupby('YEAR')['EMPLRATE'].agg(['mean'])\n",
    "empl_male = emplrate_[emplrate_['SUBJECT'] == 'Male'].groupby('YEAR')['EMPLRATE'].agg(['mean'])\n",
    "\n",
    "# Rename columns\n",
    "empl_all.rename(columns= {'mean':'All'},inplace=True)\n",
    "empl_female.rename(columns= {'mean':'Female'},inplace=True)\n",
    "empl_male.rename(columns= {'mean':'Male'},inplace=True)\n",
    "\n",
    "# Calculate mean working hours for all OECD countries each year\n",
    "hours_all = hours_.groupby('YEAR')['AVHRS'].agg(['mean'])\n",
    "\n",
    "# Rename columns\n",
    "hours_all.rename(columns= {'mean':'All'},inplace=True)\n",
    "\n",
    "#Combine the mean employment rates for all subjects into one table\n",
    "mean_table = pd.concat([empl_all, empl_female, empl_male, hours_all], axis=1)\n",
    "\n",
    "# Create a MultiIndex for the columns\n",
    "mean_table.columns = pd.MultiIndex.from_tuples([\n",
    "    ('Mean employment rate across OECD countries', 'All'), \n",
    "    ('Mean employment rate across OECD countries', 'Female'), \n",
    "    ('Mean employment rate across OECD countries', 'Male'),\n",
    "    ('Mean working hours across OECD countries', 'All')\n",
    "])\n",
    "\n",
    "mean_table "
   ]
  },
  {
   "cell_type": "markdown",
   "metadata": {},
   "source": [
    "It is clear that on average the female employment rate is lower than for men but the level of employment rates has not changed that much over time. While there is no clear trend in the average employment rate the working hours have been decreasing over time."
   ]
  },
  {
   "cell_type": "markdown",
   "metadata": {},
   "source": [
    "To further analyse the data we create an interactive plot that illustrates the employments rates of 2022 across OECD countries with a drop down menu that enables the graph to show employment rates for males, females and all, respectively. This shows which countries are included in the 'emplrate' dataset and indicates the current differences in employment rates across OECD countries:"
   ]
  },
  {
   "cell_type": "code",
   "execution_count": null,
   "metadata": {},
   "outputs": [],
   "source": [
    "# Import world map data\n",
    "worldmap = gpd.read_file(gpd.datasets.get_path('naturalearth_lowres'))\n",
    "\n",
    "def create_map_emplrate(gender):\n",
    "    # Looking at employment rates in 2022\n",
    "    emplrate_map = emplrate[(emplrate['SUBJECT'] == gender) & (emplrate['YEAR'] == '2022')]\n",
    "\n",
    "    # Merge employment rate data and world map data\n",
    "    mapdata_emplrate = pd.merge(worldmap, emplrate_map, how=\"left\", left_on='iso_a3', right_on='LOCATION')\n",
    "\n",
    "    # Plot the map\n",
    "    fig, ax = plt.subplots(1, 1, figsize=(20, 16))\n",
    "    divider = make_axes_locatable(ax)\n",
    "    cax = divider.append_axes(\"right\", size=\"2%\", pad=\"0.5%\")\n",
    "    mapdata_emplrate.plot(column=\"EMPLRATE\", ax=ax, cax=cax, cmap='OrRd', legend=True, legend_kwds={\"label\": f\"Employment rate in 2022 for {gender} (%)\"}, missing_kwds={'color':'lightgrey'}, vmin=45, vmax=85)\n",
    "    ax.set_title(f'Employment rate for OECD countries in 2022', size=20)\n",
    "    plt.show()\n",
    "\n",
    "# Dropdown menu \n",
    "gender_dropdown = widgets.Dropdown(options=['All', 'Male', 'Female'], value='All', description='Gender:')\n",
    "widgets.interactive(create_map_emplrate, gender=gender_dropdown)"
   ]
  },
  {
   "cell_type": "markdown",
   "metadata": {},
   "source": [
    "Another world map illustrates the average hours worked per person employed in 2022 across OECD countries. This shows which countries are included in the 'hours' dataset and indicates the differences in working hours across OECD countries:"
   ]
  },
  {
   "cell_type": "code",
   "execution_count": null,
   "metadata": {},
   "outputs": [],
   "source": [
    "# Looking at working hours in 2022\n",
    "hours_map = hours[hours['YEAR'] == '2022']\n",
    "\n",
    "# Merge employment rate data and world map data\n",
    "mapdata_hours = pd.merge(worldmap, hours_map, how=\"left\", left_on='iso_a3', right_on='LOCATION')\n",
    "\n",
    "# Plot the map\n",
    "fig, ax = plt.subplots(1, 1, figsize=(20, 16))\n",
    "divider = make_axes_locatable(ax)\n",
    "cax = divider.append_axes(\"right\", size=\"2%\", pad=\"0.5%\")\n",
    "mapdata_hours.plot(column=\"AVHRS\", ax=ax, cax=cax, cmap='OrRd', legend=True, legend_kwds={\"label\": f\"Average working hours per person employed (hours per year)\"}, missing_kwds={'color':'lightgrey'}, vmin=1400, vmax=2000)\n",
    "ax.set_title(f'Average working hours per person employed in OECD countries in 2022', size=20)\n",
    "plt.show()"
   ]
  },
  {
   "cell_type": "markdown",
   "metadata": {},
   "source": [
    "The hours worked and employment rate seems to be inversely correlated across countries. "
   ]
  },
  {
   "cell_type": "markdown",
   "metadata": {},
   "source": [
    "## <a id='toc4_'></a>[3. Merge datasets](#toc0_)"
   ]
  },
  {
   "cell_type": "markdown",
   "metadata": {},
   "source": [
    "Merge the datasets on employment rates and average hours per person employed in OECD countries. We do a many-to-one inner merge because we want to include employment rates for females, males and all even though this specification does not exist for the 'hours' dataset but we only want to keep observations where both an employment rate and average working hours exists:"
   ]
  },
  {
   "cell_type": "code",
   "execution_count": 7,
   "metadata": {},
   "outputs": [
    {
     "data": {
      "text/html": [
       "<div>\n",
       "<style scoped>\n",
       "    .dataframe tbody tr th:only-of-type {\n",
       "        vertical-align: middle;\n",
       "    }\n",
       "\n",
       "    .dataframe tbody tr th {\n",
       "        vertical-align: top;\n",
       "    }\n",
       "\n",
       "    .dataframe thead th {\n",
       "        text-align: right;\n",
       "    }\n",
       "</style>\n",
       "<table border=\"1\" class=\"dataframe\">\n",
       "  <thead>\n",
       "    <tr style=\"text-align: right;\">\n",
       "      <th></th>\n",
       "      <th>LOCATION</th>\n",
       "      <th>SUBJECT</th>\n",
       "      <th>YEAR</th>\n",
       "      <th>EMPLRATE</th>\n",
       "      <th>AVHRS</th>\n",
       "    </tr>\n",
       "  </thead>\n",
       "  <tbody>\n",
       "    <tr>\n",
       "      <th>0</th>\n",
       "      <td>AUS</td>\n",
       "      <td>Female</td>\n",
       "      <td>2008</td>\n",
       "      <td>66.71808</td>\n",
       "      <td>1753.556685</td>\n",
       "    </tr>\n",
       "    <tr>\n",
       "      <th>1</th>\n",
       "      <td>AUS</td>\n",
       "      <td>Male</td>\n",
       "      <td>2008</td>\n",
       "      <td>79.68430</td>\n",
       "      <td>1753.556685</td>\n",
       "    </tr>\n",
       "    <tr>\n",
       "      <th>2</th>\n",
       "      <td>AUS</td>\n",
       "      <td>All</td>\n",
       "      <td>2008</td>\n",
       "      <td>73.20431</td>\n",
       "      <td>1753.556685</td>\n",
       "    </tr>\n",
       "    <tr>\n",
       "      <th>3</th>\n",
       "      <td>AUS</td>\n",
       "      <td>Female</td>\n",
       "      <td>2009</td>\n",
       "      <td>66.30235</td>\n",
       "      <td>1779.140915</td>\n",
       "    </tr>\n",
       "    <tr>\n",
       "      <th>4</th>\n",
       "      <td>AUS</td>\n",
       "      <td>Male</td>\n",
       "      <td>2009</td>\n",
       "      <td>77.78976</td>\n",
       "      <td>1779.140915</td>\n",
       "    </tr>\n",
       "    <tr>\n",
       "      <th>...</th>\n",
       "      <td>...</td>\n",
       "      <td>...</td>\n",
       "      <td>...</td>\n",
       "      <td>...</td>\n",
       "      <td>...</td>\n",
       "    </tr>\n",
       "    <tr>\n",
       "      <th>1684</th>\n",
       "      <td>CRI</td>\n",
       "      <td>Male</td>\n",
       "      <td>2021</td>\n",
       "      <td>70.10255</td>\n",
       "      <td>2080.563075</td>\n",
       "    </tr>\n",
       "    <tr>\n",
       "      <th>1685</th>\n",
       "      <td>CRI</td>\n",
       "      <td>All</td>\n",
       "      <td>2021</td>\n",
       "      <td>57.15372</td>\n",
       "      <td>2080.563075</td>\n",
       "    </tr>\n",
       "    <tr>\n",
       "      <th>1686</th>\n",
       "      <td>CRI</td>\n",
       "      <td>Female</td>\n",
       "      <td>2022</td>\n",
       "      <td>47.06725</td>\n",
       "      <td>2155.727768</td>\n",
       "    </tr>\n",
       "    <tr>\n",
       "      <th>1687</th>\n",
       "      <td>CRI</td>\n",
       "      <td>Male</td>\n",
       "      <td>2022</td>\n",
       "      <td>72.85931</td>\n",
       "      <td>2155.727768</td>\n",
       "    </tr>\n",
       "    <tr>\n",
       "      <th>1688</th>\n",
       "      <td>CRI</td>\n",
       "      <td>All</td>\n",
       "      <td>2022</td>\n",
       "      <td>60.05968</td>\n",
       "      <td>2155.727768</td>\n",
       "    </tr>\n",
       "  </tbody>\n",
       "</table>\n",
       "<p>1689 rows × 5 columns</p>\n",
       "</div>"
      ],
      "text/plain": [
       "     LOCATION SUBJECT  YEAR  EMPLRATE        AVHRS\n",
       "0         AUS  Female  2008  66.71808  1753.556685\n",
       "1         AUS    Male  2008  79.68430  1753.556685\n",
       "2         AUS     All  2008  73.20431  1753.556685\n",
       "3         AUS  Female  2009  66.30235  1779.140915\n",
       "4         AUS    Male  2009  77.78976  1779.140915\n",
       "...       ...     ...   ...       ...          ...\n",
       "1684      CRI    Male  2021  70.10255  2080.563075\n",
       "1685      CRI     All  2021  57.15372  2080.563075\n",
       "1686      CRI  Female  2022  47.06725  2155.727768\n",
       "1687      CRI    Male  2022  72.85931  2155.727768\n",
       "1688      CRI     All  2022  60.05968  2155.727768\n",
       "\n",
       "[1689 rows x 5 columns]"
      ]
     },
     "execution_count": 7,
     "metadata": {},
     "output_type": "execute_result"
    }
   ],
   "source": [
    "# Merge the two datasets\n",
    "data_merged = pd.merge(emplrate,hours,how='inner',on=['LOCATION','YEAR'])\n",
    "data_merged"
   ]
  },
  {
   "cell_type": "markdown",
   "metadata": {},
   "source": [
    "## <a id='toc5_'></a>[4. Analysis](#toc0_)"
   ]
  },
  {
   "cell_type": "markdown",
   "metadata": {},
   "source": [
    "We plot the average hours worked per person employed over time for each of the OECD countries in the analysis to get an idea of how the working hours have evolved across time and zoom in on the countries separately:"
   ]
  },
  {
   "cell_type": "code",
   "execution_count": 8,
   "metadata": {},
   "outputs": [
    {
     "data": {
      "application/vnd.jupyter.widget-view+json": {
       "model_id": "ee0c3013cb2d43c7b1e119f10e48fb65",
       "version_major": 2,
       "version_minor": 0
      },
      "text/plain": [
       "interactive(children=(Dropdown(description='Location:', index=5, options=('AUS', 'AUT', 'BEL', 'CAN', 'CZE', '…"
      ]
     },
     "execution_count": 8,
     "metadata": {},
     "output_type": "execute_result"
    }
   ],
   "source": [
    "# Define function to update plot based on selected LOCATION\n",
    "def update_plot(location):\n",
    "    fig = plt.figure(figsize=(10, 6))\n",
    "    ax = fig.add_subplot(1,1,1)\n",
    "    ax.plot(data_merged[(data_merged['LOCATION'] == location) & (data_merged['SUBJECT'] == 'All')]['YEAR'], \n",
    "            data_merged[(data_merged['LOCATION'] == location) & (data_merged['SUBJECT'] == 'All')]['AVHRS'])\n",
    "    ax.set_xlabel('Year')\n",
    "    ax.set_ylabel('Average hours worked per person employed (hours per year)')\n",
    "    ax.set_title(f'Average hours worked per person employed across time for {location}')\n",
    "    plt.show()\n",
    "\n",
    "# Create dropdown menu for selecting LOCATION\n",
    "location_dropdown = widgets.Dropdown(options=data_merged['LOCATION'].unique(), value='DNK', description='Location:')\n",
    "\n",
    "# Define interactive widget to update plot based on dropdown selection\n",
    "widgets.interactive(update_plot, location=location_dropdown)"
   ]
  },
  {
   "cell_type": "markdown",
   "metadata": {},
   "source": [
    "There is a general trend in OECD countries where working hours per person employed have declined in the period 2008-2022. This is also the case for Denmark. Though COVID-19 creates some noise in the graph there is a general negative trend."
   ]
  },
  {
   "cell_type": "markdown",
   "metadata": {},
   "source": [
    "In a scatterplot the employments rate is plotted against the average hours worked in 2022 for all OECD countries:"
   ]
  },
  {
   "cell_type": "code",
   "execution_count": null,
   "metadata": {},
   "outputs": [],
   "source": [
    "# Plot employment rates across average working hours per person employed\n",
    "plt.figure(figsize=(10, 6))\n",
    "plt.scatter(x=data_merged[(data_merged['SUBJECT'] == 'All') & (data_merged['YEAR'] == '2022')]['AVHRS'], \n",
    "            y=data_merged[(data_merged['SUBJECT'] == 'All') & (data_merged['YEAR'] == '2022')]['EMPLRATE'])\n",
    "\n",
    "plt.xlabel('Average hours worked per person employed (hours per year)')\n",
    "plt.ylabel('Employment rate (%)')\n",
    "plt.title('Scatter plot of employment rate against average working hours across OECD countries in 2022')\n",
    "\n",
    "# Annotate points with country names\n",
    "for index, row in data_merged[(data_merged['SUBJECT'] == 'All') & (data_merged['YEAR'] == '2022')].iterrows():\n",
    "    plt.annotate(row['LOCATION'], (row['AVHRS'], row['EMPLRATE']))\n",
    "\n",
    "plt.show()"
   ]
  },
  {
   "cell_type": "markdown",
   "metadata": {},
   "source": [
    "The graph shows that Denmark ranks very low when it comes to working hours per person employed. At the same time relatively many danes between 15 and 64 years is in employment compared to other OECD countries."
   ]
  },
  {
   "cell_type": "markdown",
   "metadata": {},
   "source": [
    "A bar chart compares the employment rates in 2022 of OECD countries and highlights the rank of Denmark. A drop down menu enables the plot to how employment rates for males and females:"
   ]
  },
  {
   "cell_type": "code",
   "execution_count": null,
   "metadata": {},
   "outputs": [],
   "source": [
    "# Plotting a bar chart of the male and female employment rates in 2022\n",
    "def update_plot(gender):\n",
    "    plt.figure(figsize=(10, 6))\n",
    "    \n",
    "    # Filter data for the selected gender and year\n",
    "    filtered_data = data_merged[(data_merged['YEAR'] == '2022') & (data_merged['SUBJECT'] == gender)]\n",
    "\n",
    "    # Sort the data in descending order of employment rate\n",
    "    sorted_data = filtered_data.sort_values(by='EMPLRATE', ascending=False)\n",
    "\n",
    "     # Plotting the data\n",
    "    plt.bar(sorted_data['LOCATION'], sorted_data['EMPLRATE'], color='skyblue')\n",
    "    plt.bar(sorted_data[sorted_data['LOCATION'] == 'DNK']['LOCATION'], sorted_data[sorted_data['LOCATION'] == 'DNK']['EMPLRATE'], color='blue')\n",
    "    \n",
    "    plt.xlabel('Country')\n",
    "    plt.ylabel('Employment Rate (%)')\n",
    "    plt.title(f'{gender} Employment Rates in OECD Countries in 2022')\n",
    "    plt.xticks(rotation=45, ha='right')  # Rotate x-axis labels for better readability\n",
    "    plt.show()\n",
    "\n",
    "# Create dropdown menu for selecting gender\n",
    "gender_dropdown = widgets.Dropdown(options=['Male', 'Female'], value='Female', description='Gender:')\n",
    "\n",
    "# Define interactive widget to update plot based on dropdown selection\n",
    "widgets.interactive(update_plot, gender=gender_dropdown)"
   ]
  },
  {
   "cell_type": "markdown",
   "metadata": {},
   "source": [
    "The female employment rate is especially large in Denmark compared to the other OECD countries. "
   ]
  },
  {
   "cell_type": "markdown",
   "metadata": {},
   "source": [
    "## <a id='toc6_'></a>[5. Conclusion](#toc0_)"
   ]
  },
  {
   "cell_type": "markdown",
   "metadata": {},
   "source": [
    "Our analysis shows that average working hours per person employed has decreased across time for most of the OECD countries. \n",
    "Specifically, Denmark ranks as one of the OECD countries with the lowest average working hours per person employed in 2022. However, the employment rate in Denmark in 2022 is quite large compared to a lot of the other OECD countries. This is, among other things, because the female employment rate in Denmark is relatively large. Thus we cannot conclude anything umambiguous about the total work effort in Denmark. "
   ]
  }
 ],
 "metadata": {
  "kernelspec": {
   "display_name": "base",
   "language": "python",
   "name": "python3"
  },
  "language_info": {
   "codemirror_mode": {
    "name": "ipython",
    "version": 3
   },
   "file_extension": ".py",
   "mimetype": "text/x-python",
   "name": "python",
   "nbconvert_exporter": "python",
   "pygments_lexer": "ipython3",
   "version": "3.11.7"
  },
  "toc-autonumbering": true,
  "vscode": {
   "interpreter": {
    "hash": "47ef90cdf3004d3f859f1fb202523c65c07ba7c22eefd261b181f4744e2d0403"
   }
  }
 },
 "nbformat": 4,
 "nbformat_minor": 4
}
