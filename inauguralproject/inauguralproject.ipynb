{
 "cells": [
  {
   "cell_type": "markdown",
   "metadata": {},
   "source": [
    "# Inaugural Project"
   ]
  },
  {
   "cell_type": "markdown",
   "metadata": {},
   "source": [
    "**Table of contents**<a id='toc0_'></a>    \n",
    "- 0. [Imports](#toc1_)    \n",
    "- 1. [Basic Edgeworth box](#toc2_)   \n",
    "  - 1.a [Finding pareto improvements](#toc2_1_)\n",
    "  - 1.b [The set of pareto improvements in an Edgeworth box](#toc2_2_)  \n",
    "- 2. [Market clearing error](#toc3_)\n",
    "- 3. [Market clearing price](#toc4_)\n",
    "- 4. [Utility maximization of consumer A](#toc5_)\n",
    "  - 4.a [Allocation if only prices in P1 can be chosen](#toc5_1_)\n",
    "  - 4.b [Allocation if any positive prices can be chosen](#toc5_2_)\n",
    "- 5. [A is the market maker](#toc6_)\n",
    "  - 5.a [Allocation restricted to C](#toc6_1_)\n",
    "  - 5.b [Allocation if no further restrictions are imposed](#toc6_2_)\n",
    "- 6. [Maximization of aggregate utility](#toc7_)\n",
    "  - 6.a [Allocation when consumption is chosen by social planner](#toc7_1_)\n",
    "  - 6.b [Comparing results](#toc7_2_)\n",
    "- 7. [Random set of endowments](#toc8_)\n",
    "- 8. [Market equilibrium allocation with random set](#toc9_)\n",
    "  - 8.a [Market equilibrium for each combination of endowments in set $W$](#toc9_1_)\n",
    "  - 8.b [Plotting market equilibria in Edgeworth box](#toc9_2_)\n",
    "\n",
    "\n",
    "\n",
    "<!-- vscode-jupyter-toc-config\n",
    "\tnumbering=true\n",
    "\tanchor=true\n",
    "\tflat=false\n",
    "\tminLevel=2\n",
    "\tmaxLevel=6\n",
    "\t/vscode-jupyter-toc-config -->\n",
    "<!-- THIS CELL WILL BE REPLACED ON TOC UPDATE. DO NOT WRITE YOUR TEXT IN THIS CELL -->"
   ]
  },
  {
   "cell_type": "markdown",
   "metadata": {},
   "source": [
    "## 0. <a id='toc1_'></a>[Imports](#toc0_)"
   ]
  },
  {
   "cell_type": "markdown",
   "metadata": {},
   "source": [
    "Imports and set magics:"
   ]
  },
  {
   "cell_type": "code",
   "execution_count": null,
   "metadata": {},
   "outputs": [],
   "source": [
    "import matplotlib.pyplot as plt\n",
    "plt.rcParams.update({\"axes.grid\":True,\"grid.color\":\"black\",\"grid.alpha\":\"0.25\",\"grid.linestyle\":\"--\"})\n",
    "plt.rcParams.update({'font.size': 14})\n",
    "\n",
    "import numpy as np\n",
    "\n",
    "# We import autoreload modules to have the recent changes from the Python file. \n",
    "%load_ext autoreload\n",
    "%autoreload 2"
   ]
  },
  {
   "cell_type": "code",
   "execution_count": null,
   "metadata": {},
   "outputs": [],
   "source": [
    "# We import our model class as \"model\"\n",
    "from ExchangeEconomy import ExchangeEconomyClass\n",
    "model = ExchangeEconomyClass()"
   ]
  },
  {
   "cell_type": "markdown",
   "metadata": {},
   "source": [
    "## 1. <a id='toc2_'></a>[Basic Edgeworth box](#toc0_)"
   ]
  },
  {
   "cell_type": "markdown",
   "metadata": {},
   "source": [
    "In a basic Edgeworth box all pairs of combinations of $x_1^A$ and $x_2^A$ that leave both consumers at least as well off as when they are consuming their endowments are plottet. This is done by looping though the possible values of $x_1^A$ and $x_2^A$ and finding the pairs that causes the utility of consumer A and B to be strictly larger than their utility when consuming their endowments. "
   ]
  },
  {
   "cell_type": "markdown",
   "metadata": {},
   "source": [
    "### 1.a <a id='toc2_1_'></a>[Finding pareto improvements](#toc0_)"
   ]
  },
  {
   "cell_type": "code",
   "execution_count": null,
   "metadata": {},
   "outputs": [],
   "source": [
    "#Find the pareto improvements relative to the endowment\n",
    "result = model.find_pareto_improvements(N1=76, N2=76)"
   ]
  },
  {
   "cell_type": "markdown",
   "metadata": {},
   "source": [
    "### 1.b <a id='toc2_2_'></a>[The set of pareto improvements in an Edgeworth box](#toc0_)"
   ]
  },
  {
   "cell_type": "markdown",
   "metadata": {},
   "source": [
    "We plot the set of pareto improvements as well as the initial endowment in an Edgeworth box:"
   ]
  },
  {
   "cell_type": "code",
   "execution_count": null,
   "metadata": {},
   "outputs": [],
   "source": [
    "#Plotting the pareto improvements in an edgeworth box\n",
    "par = model.par\n",
    "\n",
    "# a. total endowment\n",
    "w1bar = 1.0\n",
    "w2bar = 1.0\n",
    "\n",
    "# b. figure set up\n",
    "fig = plt.figure(frameon=False,figsize=(6,6), dpi=100)\n",
    "ax_A = fig.add_subplot(1, 1, 1)\n",
    "\n",
    "ax_A.set_xlabel(\"$x_1^A$\")\n",
    "ax_A.set_ylabel(\"$x_2^A$\")\n",
    "\n",
    "temp = ax_A.twinx()\n",
    "temp.set_ylabel(\"$x_2^B$\")\n",
    "ax_B = temp.twiny()\n",
    "ax_B.set_xlabel(\"$x_1^B$\")\n",
    "ax_B.invert_xaxis()\n",
    "ax_B.invert_yaxis()\n",
    "\n",
    "# Plotting all pairs of (x1A, x2A) in the Edgeworth box\n",
    "pareto = np.array(result).T  # We transpose the matrix with the pareto improvements\n",
    "ax_A.plot(pareto[0],pareto[1],lw=2, marker='o', color='blue', label='pareto improvements')\n",
    "\n",
    "# Plotting the endowment in the Edgeworth box\n",
    "ax_A.plot(par.w1A,par.w2A,marker='s',color='black',label='endowment')\n",
    "\n",
    "# limits\n",
    "ax_A.plot([0,w1bar],[0,0],lw=2,color='black')\n",
    "ax_A.plot([0,w1bar],[w2bar,w2bar],lw=2,color='black')\n",
    "ax_A.plot([0,0],[0,w2bar],lw=2,color='black')\n",
    "ax_A.plot([w1bar,w1bar],[0,w2bar],lw=2,color='black')\n",
    "\n",
    "ax_A.set_xlim([-0.1, w1bar + 0.1])\n",
    "ax_A.set_ylim([-0.1, w2bar + 0.1])    \n",
    "ax_B.set_xlim([w1bar + 0.1, -0.1])\n",
    "ax_B.set_ylim([w2bar + 0.1, -0.1])\n",
    "\n",
    "ax_A.legend(frameon=True,loc='upper right',bbox_to_anchor=(1.8,1.0));"
   ]
  },
  {
   "cell_type": "markdown",
   "metadata": {},
   "source": [
    "## 2. <a id='toc3_'></a>[Market clearing error](#toc0_)"
   ]
  },
  {
   "cell_type": "markdown",
   "metadata": {},
   "source": [
    "We calculate the error in the market clearing condition for the specified range of prices:"
   ]
  },
  {
   "cell_type": "code",
   "execution_count": null,
   "metadata": {},
   "outputs": [],
   "source": [
    "# Define prices \n",
    "p1_values = list(0.5 + 2 * (i / 75) for i in range(76))\n",
    "p1_values_array = np.array(p1_values)\n",
    "\n",
    "# Calculate market clearing error for both markets\n",
    "eps1, eps2 = model.check_market_clearing(p1=p1_values_array)"
   ]
  },
  {
   "cell_type": "markdown",
   "metadata": {},
   "source": [
    "We plot the calculated errors to get a better overview of the results:"
   ]
  },
  {
   "cell_type": "code",
   "execution_count": null,
   "metadata": {},
   "outputs": [],
   "source": [
    "# Plotting the errors\n",
    "plt.figure(figsize=(10, 6))\n",
    "plt.plot(p1_values, eps1, label='$\\epsilon_1(p, \\omega)$')\n",
    "plt.plot(p1_values, eps2, label='$\\epsilon_2(p, \\omega)$', linestyle='--')\n",
    "plt.axhline(0, color='k', linestyle=':', alpha=0.5)\n",
    "plt.title('Errors in the market clearing condition as a function of $p_1$')\n",
    "plt.xlabel('$p_1$')\n",
    "plt.ylabel('Error')\n",
    "plt.legend()\n",
    "plt.grid(True)\n",
    "plt.show()"
   ]
  },
  {
   "cell_type": "markdown",
   "metadata": {},
   "source": [
    "It is clear from the graph that there exists a unique market clearing price where the errors are equal to zero. This is found below. "
   ]
  },
  {
   "cell_type": "markdown",
   "metadata": {},
   "source": [
    "## 3. <a id='toc4_'></a>[Market clearing price](#toc0_)"
   ]
  },
  {
   "cell_type": "markdown",
   "metadata": {},
   "source": [
    "We use Walras' law and find the market clearing price that causes the error in the market for good 1 to equal zero. "
   ]
  },
  {
   "cell_type": "code",
   "execution_count": null,
   "metadata": {},
   "outputs": [],
   "source": [
    "#Find the market clearing price\n",
    "model.find_equilibrium()"
   ]
  },
  {
   "cell_type": "markdown",
   "metadata": {},
   "source": [
    "Here we have first find a price interval where the market error is close to zero by looping over the possible prices and then use an optimizer to find the exact market price where the market error for good 1 is zero. At this price both the markets for good 1 and good 2 clear."
   ]
  },
  {
   "cell_type": "markdown",
   "metadata": {},
   "source": [
    "## 4. <a id='toc5_'></a>[Utility maximization of consumer A](#toc0_)"
   ]
  },
  {
   "cell_type": "markdown",
   "metadata": {},
   "source": [
    "### 4.a <a id='toc5_1_'></a>[Allocation if only prices in P1 can be chosen](#toc0_)"
   ]
  },
  {
   "cell_type": "markdown",
   "metadata": {},
   "source": [
    "We find the optimal allocation for A where A chooses the price to maximize her own utility. A can choose between the list of prices given in question 2."
   ]
  },
  {
   "cell_type": "code",
   "execution_count": null,
   "metadata": {},
   "outputs": [],
   "source": [
    "model.Utility_max_a()"
   ]
  },
  {
   "cell_type": "markdown",
   "metadata": {},
   "source": [
    "### 4.b <a id='toc5_2_'></a>[Allocation if any positive prices can be chosen](#toc0_)"
   ]
  },
  {
   "cell_type": "markdown",
   "metadata": {},
   "source": [
    "We find the optimal allocation for A where A can choose any positive price:"
   ]
  },
  {
   "cell_type": "code",
   "execution_count": null,
   "metadata": {},
   "outputs": [],
   "source": [
    "model.Utility_max_b()"
   ]
  },
  {
   "cell_type": "markdown",
   "metadata": {},
   "source": [
    "## 5. <a id='toc6_'></a>[A is the market maker](#toc0_)"
   ]
  },
  {
   "cell_type": "markdown",
   "metadata": {},
   "source": [
    "Now it is assumed that A is the market maker and thereby chooses B's consumption."
   ]
  },
  {
   "cell_type": "markdown",
   "metadata": {},
   "source": [
    "### 5.a <a id='toc6_1_'></a>[Allocation restricted to C](#toc0_)"
   ]
  },
  {
   "cell_type": "markdown",
   "metadata": {},
   "source": [
    "We find the allocation where consumer A's utility is maximized under the restriction that the choice set is restricted to C. That is, we loop through the pareto improvements found in exercise 1 and find the pair of $x_1^A$ and $x_2^A$ that maximizes the utility of consumer A."
   ]
  },
  {
   "cell_type": "code",
   "execution_count": null,
   "metadata": {},
   "outputs": [],
   "source": [
    "#Find the allocation when the choice set is restricted to C\n",
    "model.pareto_optimizer()"
   ]
  },
  {
   "cell_type": "markdown",
   "metadata": {},
   "source": [
    "### 5.b <a id='toc6_2_'></a>[Allocation if no further restrictions are imposed](#toc0_)"
   ]
  },
  {
   "cell_type": "markdown",
   "metadata": {},
   "source": [
    "We find the allocation when consumer A is the market maker but B is not worse of than when consuming the initial endowment. This is done by maximizing the utility of consumer A under the constraint that the difference between B's utility when consuming the proposed amount compared to consuming the endowment has to be non-negative. "
   ]
  },
  {
   "cell_type": "code",
   "execution_count": null,
   "metadata": {},
   "outputs": [],
   "source": [
    "#Find the allocation when there is no restriction but the fact that B has to be better of than when consuming the endowment\n",
    "model.marketmaker_solver()"
   ]
  },
  {
   "cell_type": "markdown",
   "metadata": {},
   "source": [
    "## 6. <a id='toc7_'></a>[Maximization of aggregate utility](#toc0_)"
   ]
  },
  {
   "cell_type": "markdown",
   "metadata": {},
   "source": [
    "### 6.a <a id='toc7_1_'></a>[Allocation when consumption is chosen by social planner](#toc0_)"
   ]
  },
  {
   "cell_type": "markdown",
   "metadata": {},
   "source": [
    "The aggregate utility of consumer A and B is maximized such that the consumption levels are chosen by a utalitarian social planner."
   ]
  },
  {
   "cell_type": "code",
   "execution_count": null,
   "metadata": {},
   "outputs": [],
   "source": [
    "#Find allocation when aggregate utility is maximized\n",
    "model.socialplanner_solver()"
   ]
  },
  {
   "cell_type": "markdown",
   "metadata": {},
   "source": [
    "Now the utility of consumer A is considerably lower. \n",
    "The solutions corresponds to the values of $\\alpha$ and $\\beta$ reflecting the consumers' preferences for good 1 and good 2. This makes sense since we consider Cobb-Douglas utility functions."
   ]
  },
  {
   "cell_type": "markdown",
   "metadata": {},
   "source": [
    "### 6.b <a id='toc7_2_'></a>[Comparing results](#toc0_)"
   ]
  },
  {
   "cell_type": "markdown",
   "metadata": {},
   "source": [
    "To compare results from question 3-5 we plot all the different optimal allocations in an Edgeworth box."
   ]
  },
  {
   "cell_type": "code",
   "execution_count": null,
   "metadata": {},
   "outputs": [],
   "source": [
    "#Plotting the pareto improvements in an edgeworth box\n",
    "par = model.par\n",
    "\n",
    "# a. total endowment\n",
    "w1bar = 1.0\n",
    "w2bar = 1.0\n",
    "\n",
    "# b. figure set up\n",
    "fig = plt.figure(frameon=False,figsize=(6,6), dpi=100)\n",
    "ax_A = fig.add_subplot(1, 1, 1)\n",
    "\n",
    "ax_A.set_xlabel(\"$x_1^A$\")\n",
    "ax_A.set_ylabel(\"$x_2^A$\")\n",
    "\n",
    "temp = ax_A.twinx()\n",
    "temp.set_ylabel(\"$x_2^B$\")\n",
    "ax_B = temp.twiny()\n",
    "ax_B.set_xlabel(\"$x_1^B$\")\n",
    "ax_B.invert_xaxis()\n",
    "ax_B.invert_yaxis()\n",
    "\n",
    "xA1_3 = model.demand_A(0.9444)[0]\n",
    "xA2_3 = model.demand_A(0.9444)[1]\n",
    "xA1_4a = model.Utility_max_a(do_print=False)[0]\n",
    "xA2_4a = model.Utility_max_a(do_print=False)[1]\n",
    "xA1_4b = model.Utility_max_b(do_print=False)[0]\n",
    "xA2_4b = model.Utility_max_a(do_print=False)[1]\n",
    "xA1_5a = model.pareto_optimizer(do_print=False)[0]\n",
    "xA2_5a = model.pareto_optimizer(do_print=False)[1]\n",
    "xA1_5b = model.marketmaker_solver(do_print=False)[0]\n",
    "xA2_5b = model.marketmaker_solver(do_print=False)[1]\n",
    "xA1_6a = model.socialplanner_solver(do_print=False)[0]\n",
    "xA2_6a = model.socialplanner_solver(do_print=False)[1]\n",
    "\n",
    "# Plotting all pareto improvements in the Edgeworth box\n",
    "pareto = np.array(result).T  # We transpose the matrix with the pareto improvements\n",
    "ax_A.plot(pareto[0],pareto[1],lw=2, marker='o', color='blue', label='pareto improvements')\n",
    "\n",
    "#Plotting the endowment as well as the answers to the questions\n",
    "ax_A.plot(par.w1A,par.w2A,marker='s',color='black',label='endowment')\n",
    "ax_A.plot(xA1_3, xA2_3, marker='s', color='red', label='Question 3')\n",
    "ax_A.plot(xA1_4a, xA2_4a, marker='s', color='green', label='Question 4a')\n",
    "ax_A.plot(xA1_4b, xA2_4b, marker='^', color='yellow', label='Question 4b')\n",
    "ax_A.plot(xA1_5a, xA2_5a, marker='s', color='pink', label='Question 5a')\n",
    "ax_A.plot(xA1_5b, xA2_5b, marker='s', color='orange', label='Question 5b')\n",
    "ax_A.plot(xA1_6a, xA2_6a, marker='s', color='brown', label='Question 6a')\n",
    "\n",
    "# limits\n",
    "ax_A.plot([0,w1bar],[0,0],lw=2,color='black')\n",
    "ax_A.plot([0,w1bar],[w2bar,w2bar],lw=2,color='black')\n",
    "ax_A.plot([0,0],[0,w2bar],lw=2,color='black')\n",
    "ax_A.plot([w1bar,w1bar],[0,w2bar],lw=2,color='black')\n",
    "\n",
    "ax_A.set_xlim([-0.1, w1bar + 0.1])\n",
    "ax_A.set_ylim([-0.1, w2bar + 0.1])    \n",
    "ax_B.set_xlim([w1bar + 0.1, -0.1])\n",
    "ax_B.set_ylim([w2bar + 0.1, -0.1])\n",
    "\n",
    "ax_A.legend(frameon=True,loc='upper right',bbox_to_anchor=(1.8,1.0));"
   ]
  },
  {
   "cell_type": "markdown",
   "metadata": {},
   "source": [
    "From the plot depicted above, it is evident that there is a signficiant difference in allocations when comparing the scenarios. There is almost no difference between scenarios 4a and 4b since the prices and consequently the allocation yielding the highest utility were nearly encompassed within the constrained list of prices in 4a. However, the utility of consumer A is a bit higher in 4b when any positive price can be chosen. The most substantial deviation in allocation occurs when A becomes the market maker. Here consumer A ends up with a relatively large amount of both goods and the largest amount of utility. In general, consumer A prefers a lot of good 2 which is also reflected in the figure. In the allocation of the social planner the utility of consumer A is the lowest which makes sense because both the utility of consumer A and B are considered. "
   ]
  },
  {
   "cell_type": "markdown",
   "metadata": {},
   "source": [
    "All the allocations are pareto improvements compared to the initial endowment for both players. However, the distribution of utility between the two consumers differ a lot. Especially when consumer A is the market maker the utility of consumer A is relatively high. In that way the allocations in question 4 may seem a bit more fair. Ultimately the allocation of the social planner seems the most fair as the utility of both players is taken into account. "
   ]
  },
  {
   "cell_type": "markdown",
   "metadata": {},
   "source": [
    "## 7. <a id='toc8_'></a>[Random set of endowments](#toc0_)"
   ]
  },
  {
   "cell_type": "markdown",
   "metadata": {},
   "source": [
    "A random set of endowments is created by drawing 50 random $w_1^A$ and $w_2^A$ from a uniform distribution. "
   ]
  },
  {
   "cell_type": "code",
   "execution_count": null,
   "metadata": {},
   "outputs": [],
   "source": [
    "#Draw a set of endowments with 50 elements\n",
    "w = model.setw(s = 50)\n",
    "print(w)"
   ]
  },
  {
   "cell_type": "markdown",
   "metadata": {},
   "source": [
    "## 8. <a id='toc9'></a>[Market equilibrium allocation with random set](#toc0_)"
   ]
  },
  {
   "cell_type": "markdown",
   "metadata": {},
   "source": [
    "A market equilibrium allocation is found for each pair of endowments in $W$ by finding the price within all positive prices that causes the error in the market clearing condition for good 1 to become zero for each endowment pair. "
   ]
  },
  {
   "cell_type": "markdown",
   "metadata": {},
   "source": [
    "### 8.a <a id='toc9_1_'></a>[Market equilibrium for each combination of endowments in set $W$](#toc0_)"
   ]
  },
  {
   "cell_type": "markdown",
   "metadata": {},
   "source": [
    "We start by finding the market equilibrium for each combination of endowments in set W."
   ]
  },
  {
   "cell_type": "code",
   "execution_count": null,
   "metadata": {},
   "outputs": [],
   "source": [
    "#Find market equilibria for each endowment combination\n",
    "equilibria = model.equilibriumallocation()"
   ]
  },
  {
   "cell_type": "markdown",
   "metadata": {},
   "source": [
    "### 8.b <a id='toc9_2_'></a>[Plotting market equilibria in an Edgeworth box](#toc0_)"
   ]
  },
  {
   "cell_type": "markdown",
   "metadata": {},
   "source": [
    "Afterwards we plot the findings from 8.a in the Edgeworth box shown below."
   ]
  },
  {
   "cell_type": "code",
   "execution_count": null,
   "metadata": {},
   "outputs": [],
   "source": [
    "#Plotting the market equilibria in an edgeworth box\n",
    "par = model.par\n",
    "\n",
    "# a. total endowment\n",
    "w1bar = 1.0\n",
    "w2bar = 1.0\n",
    "\n",
    "# b. figure set up\n",
    "fig = plt.figure(frameon=False,figsize=(6,6), dpi=100)\n",
    "ax_A = fig.add_subplot(1, 1, 1)\n",
    "\n",
    "ax_A.set_xlabel(\"$x_1^A$\")\n",
    "ax_A.set_ylabel(\"$x_2^A$\")\n",
    "\n",
    "temp = ax_A.twinx()\n",
    "temp.set_ylabel(\"$x_2^B$\")\n",
    "ax_B = temp.twiny()\n",
    "ax_B.set_xlabel(\"$x_1^B$\")\n",
    "ax_B.invert_xaxis()\n",
    "ax_B.invert_yaxis()\n",
    "\n",
    "# Plotting all pairs of (x1A, x2A) in the Edgeworth box\n",
    "curve = np.array(equilibria).T  \n",
    "ax_A.scatter(curve[0],curve[1], marker='o', color='red')\n",
    "\n",
    "# limits\n",
    "ax_A.plot([0,w1bar],[0,0],lw=2,color='black')\n",
    "ax_A.plot([0,w1bar],[w2bar,w2bar],lw=2,color='black')\n",
    "ax_A.plot([0,0],[0,w2bar],lw=2,color='black')\n",
    "ax_A.plot([w1bar,w1bar],[0,w2bar],lw=2,color='black')\n",
    "\n",
    "ax_A.set_xlim([-0.1, w1bar + 0.1])\n",
    "ax_A.set_ylim([-0.1, w2bar + 0.1])    \n",
    "ax_B.set_xlim([w1bar + 0.1, -0.1])\n",
    "ax_B.set_ylim([w2bar + 0.1, -0.1])"
   ]
  },
  {
   "cell_type": "markdown",
   "metadata": {},
   "source": [
    "The market equilibria create the contract curve in the Edgeworth box. "
   ]
  }
 ],
 "metadata": {
  "kernelspec": {
   "display_name": "base",
   "language": "python",
   "name": "python3"
  },
  "language_info": {
   "codemirror_mode": {
    "name": "ipython",
    "version": 3
   },
   "file_extension": ".py",
   "mimetype": "text/x-python",
   "name": "python",
   "nbconvert_exporter": "python",
   "pygments_lexer": "ipython3",
   "version": "3.11.7"
  },
  "orig_nbformat": 4,
  "vscode": {
   "interpreter": {
    "hash": "47ef90cdf3004d3f859f1fb202523c65c07ba7c22eefd261b181f4744e2d0403"
   }
  }
 },
 "nbformat": 4,
 "nbformat_minor": 2
}
