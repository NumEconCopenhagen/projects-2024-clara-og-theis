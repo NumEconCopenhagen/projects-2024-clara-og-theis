{
 "cells": [
  {
   "cell_type": "markdown",
   "metadata": {},
   "source": [
    "# Wage formation in a Nash Bargaining game "
   ]
  },
  {
   "cell_type": "markdown",
   "metadata": {},
   "source": [
    "**Table of contents**<a id='toc0_'></a>    \n",
    "- [Model description](#toc1_) \n",
    "- [Analytical solution](#toc2_)    \n",
    "- [Numerical solution](#toc3_)   \n",
    "- [Further analysis](#toc4_)   \n",
    "- [Conclusion](#toc5_) \n",
    "\n",
    "<!-- vscode-jupyter-toc-config\n",
    "\tnumbering=true\n",
    "\tanchor=true\n",
    "\tflat=false\n",
    "\tminLevel=2\n",
    "\tmaxLevel=6\n",
    "\t/vscode-jupyter-toc-config -->\n",
    "<!-- THIS CELL WILL BE REPLACED ON TOC UPDATE. DO NOT WRITE YOUR TEXT IN THIS CELL -->"
   ]
  },
  {
   "cell_type": "markdown",
   "metadata": {},
   "source": [
    "Imports and set magics:"
   ]
  },
  {
   "cell_type": "code",
   "execution_count": null,
   "metadata": {},
   "outputs": [],
   "source": [
    "import numpy as np\n",
    "from scipy import optimize\n",
    "import sympy as sm\n",
    "from types import SimpleNamespace\n",
    "import matplotlib.pyplot as plt\n",
    "from ipywidgets import interact, FloatSlider, IntSlider\n",
    "\n",
    "# autoreload modules when code is run\n",
    "%load_ext autoreload\n",
    "%autoreload 2\n",
    "\n",
    "# local modules\n",
    "import modelproject\n",
    "\n",
    "from modelproject import NashBargainingClass\n",
    "model = NashBargainingClass()\n"
   ]
  },
  {
   "cell_type": "markdown",
   "metadata": {},
   "source": [
    "## <a id='toc1_'></a>[Model description](#toc0_)"
   ]
  },
  {
   "cell_type": "markdown",
   "metadata": {},
   "source": [
    "We consider a simple Nash bargaining problem between two bargainers/players: $N = \\{1,2\\}$. In our case, the two players are a firm and a worker who bargain about splitting the productivity of the worker in a one shot game. The players either reach an agreement on the distribution of the surplus or fail to reach an agreement in which they receive the threat point $D=(d_1,d_2)$. $d_1$ can be thought for as unemployment benefits which the bargained wage has to exceed for the contract to be entered into. We assume that $d_2=0$. "
   ]
  },
  {
   "cell_type": "markdown",
   "metadata": {},
   "source": [
    "The firm's utility function is defined as the profit after paying wage to the worker because we assume that labour is the only production input. $\\theta$ is the value of labour in the form of productivity while $w\\in [d_1,\\theta]$ is the wage of the worker. We assume that both agents are risk neutral. The utility functions are thus presented as:\n",
    "$$\n",
    "\\begin{aligned}\n",
    "u_1(w) &= w \\\\\n",
    "u_2(\\theta, w) &= \\theta - w \\\\\n",
    "\\end{aligned}\n",
    "$$"
   ]
  },
  {
   "cell_type": "markdown",
   "metadata": {},
   "source": [
    "The Nash bargaining problem includes asymmetry as we assume that the firm and the worker have different bargaining power. Thus the worker and the firm shares the contract surplus dependent on their relative bargaining power reflected by $\\alpha \\in [0,1]$ conditional on the threat point. $\\alpha$ is the bargaining power of the worker while the bargaining power of the firm is $1-\\alpha$. "
   ]
  },
  {
   "cell_type": "markdown",
   "metadata": {},
   "source": [
    "If the axioms \"Invariance to Equivalent Utility Representations\", \"Independence of Irrelevant Alternatives\" and \"Pareto Efficiency\" are fulfilled the unique solution of the Nash baragining problem with asymmetry where $D=(d_1,0)$ is given by\n",
    "$$\n",
    "\\begin{aligned}\n",
    "f(u,d) &= \\arg \\max_{w} (u_1(w)-d_1)^\\alpha (u_2(\\theta,w)-d_2)^{1-\\alpha}  \\\\\n",
    "&= \\arg \\max_w (w-d_1)^\\alpha(\\theta-w)^{1-\\alpha}\\\\\n",
    "\\end{aligned}\n",
    "$$"
   ]
  },
  {
   "cell_type": "markdown",
   "metadata": {},
   "source": [
    "The Nash solution maximizes the product of surplus utilities of the firm and the worker. "
   ]
  },
  {
   "cell_type": "markdown",
   "metadata": {},
   "source": [
    "## <a id='toc2_'></a>[Analytical solution](#toc0_)"
   ]
  },
  {
   "cell_type": "markdown",
   "metadata": {},
   "source": [
    "We find the analytical solution of the model by characterizing the solution as a function of the parameters of the model:"
   ]
  },
  {
   "cell_type": "code",
   "execution_count": null,
   "metadata": {},
   "outputs": [],
   "source": [
    "analyticalsolution = sm.Eq(model.par.w,model.analyticalsolution())\n",
    "analyticalsolution"
   ]
  },
  {
   "cell_type": "markdown",
   "metadata": {},
   "source": [
    "The wage is the weighted average of the productivity, $\\theta$, and the workers' threat point where the weights are the bargaining power of the worker and the firm, respectively. "
   ]
  },
  {
   "cell_type": "markdown",
   "metadata": {},
   "source": [
    "## <a id='toc3_'></a>[Numerical solution](#toc0_)"
   ]
  },
  {
   "cell_type": "markdown",
   "metadata": {},
   "source": [
    "Now we solve the model numerically. The objective which we want to maximize is the $f(u,d)$ function defined above. We use the Nelder-Mead method as this allows us to use bounds. We restrict the wage in the interval $[d_1,\\theta]$ and set the initial value to the lowest possible value $d_1$. For the numerical solution we assume that $\\theta=60$, $d_1 = 10$, $d_2 = 0$ and $\\alpha = 1/3$."
   ]
  },
  {
   "cell_type": "code",
   "execution_count": null,
   "metadata": {},
   "outputs": [],
   "source": [
    "numericalsolution = model.numericalsolution()\n",
    "print(f'w = {numericalsolution:.1f}')"
   ]
  },
  {
   "cell_type": "markdown",
   "metadata": {},
   "source": [
    "The value w = 26.7 represents the wage calculated by the Nash bargaining model based on the parameters and assumptions stated above. This wage is the bargaining solution where both the worker's and the employer's utility surplus are maximized given their bargaining conditions."
   ]
  },
  {
   "cell_type": "markdown",
   "metadata": {},
   "source": [
    "We look at how the wage changes when $\\alpha$ changes:"
   ]
  },
  {
   "cell_type": "code",
   "execution_count": null,
   "metadata": {},
   "outputs": [],
   "source": [
    "model.varyingalpha()"
   ]
  },
  {
   "cell_type": "markdown",
   "metadata": {},
   "source": [
    "As $\\alpha$ changes the wage varies within the bounds of $\\theta$ and $d_1$. When $\\alpha=0$ the firm receives all the surplus of the contract as the wage becomes equal to the worker's minimum required wage, $w^{min}=d_1=10$. The wage is an increasing function of the worker's bargaining power, $\\alpha$. In the limiting case where $\\alpha=1$ the wage equals the maximum wage the firm can offer such that the profit is not negative which is equal to the value of labour, $w^{max}=\\theta=60$. "
   ]
  },
  {
   "cell_type": "markdown",
   "metadata": {},
   "source": [
    "In the our numerical solution where $\\alpha=1/3$ the wage is relatively low, $w=26.7$, because of the low bargaining power of the worker expressed by $\\alpha$ and the relatively low threat point, $d_1=10$."
   ]
  },
  {
   "cell_type": "markdown",
   "metadata": {},
   "source": [
    "## <a id='toc4_'></a>[Further analysis](#toc0_)"
   ]
  },
  {
   "cell_type": "markdown",
   "metadata": {},
   "source": [
    "We simulate a wage distribution of 10.000 individuals whose wages are determined by the Nash bargaining model. It is again assumed that $d_1=10$, $d_2=0$ and $\\alpha = 1/3$. However, now productivity values of the individuals are drawn from a normal distribution with mean 60 and standard deviation of 10."
   ]
  },
  {
   "cell_type": "code",
   "execution_count": null,
   "metadata": {},
   "outputs": [],
   "source": [
    "model.val.alpha = 1/3 # Redefine the value of alpha\n",
    "model.simulatewdistribution(min = 15, max = 40) # Set the range of the graph"
   ]
  },
  {
   "cell_type": "markdown",
   "metadata": {},
   "source": [
    "This histogram depicts the distribution of wages resulting from the Nash Bargaining model. The spread of the distribution indicates variability in wage outcome which results from differences in productivity, $\\theta$."
   ]
  },
  {
   "cell_type": "markdown",
   "metadata": {},
   "source": [
    "Below an interactive plot lets you adjust $\\alpha$ and $d_1$ to see how they affect the wage distribution within the Nash bargaining framework. Note that when updating the results it takes a bit of time for the figure to appear:"
   ]
  },
  {
   "cell_type": "code",
   "execution_count": null,
   "metadata": {},
   "outputs": [],
   "source": [
    "model.interactive_plot()"
   ]
  },
  {
   "cell_type": "markdown",
   "metadata": {},
   "source": [
    "A larger value of $\\alpha$ and/or $d_1$ push the distribution of wages to the right because the worker gains more bargaining power. "
   ]
  },
  {
   "cell_type": "markdown",
   "metadata": {},
   "source": [
    "Now we introduce a minimum wage, $m=20$, and return to assuming that $\\alpha=1/3$ and $d_1=10$. It is assumed that the minimum wage does not affect the threat point which is exogenous. In the optimization the minimum wage is introduced such that the wage is bounded in the interval $[m, \\theta]$."
   ]
  },
  {
   "cell_type": "markdown",
   "metadata": {},
   "source": [
    "For contracts where the productivity exceeds the minimum wage the wage distribution becomes:"
   ]
  },
  {
   "cell_type": "code",
   "execution_count": null,
   "metadata": {},
   "outputs": [],
   "source": [
    "model.minimumwage()"
   ]
  },
  {
   "cell_type": "markdown",
   "metadata": {},
   "source": [
    "For contracts where $\\theta < m$ it is no longer profitable for the firm to hire the worker so here no wage will be agreed on. In cases where the minimum wage is not binding (where the wage without the minimum wage already exceeds the minimum wage) the axiom of Independence of Irrelevant Alternatives means that the Nash bargaining solution is unchanged. For workers where $\\theta ≥ m$ and the minimum wage is binding the wage is raised (compared to the case without a minimum wage) to equal $m$. So we see that the minimum wage causes bunching in the distribution of wages as illustrated above and no wages below the minimum bound. "
   ]
  },
  {
   "cell_type": "markdown",
   "metadata": {},
   "source": [
    "## <a id='toc5_'></a>[Conclusion](#toc0_)"
   ]
  },
  {
   "cell_type": "markdown",
   "metadata": {},
   "source": [
    "With a Nash Bargaining one shot model it is possible to simulate the situation of wage formation between a firm and a worker. In this model the wage is determined by the solution to the maximization of the product of surplus utilities. The wage is an increasing function of the worker's threat point, $d_1$, the value of labour, $\\theta$, and the worker's bargaining power, $\\alpha$. Introducing a minimum wage into the model causes less contracts to be entered into but some wages where the productivity exceeds the minimum wage are raised to equal the minimum wage creating bunching in the wage distribution. "
   ]
  }
 ],
 "metadata": {
  "kernelspec": {
   "display_name": "base",
   "language": "python",
   "name": "python3"
  },
  "language_info": {
   "codemirror_mode": {
    "name": "ipython",
    "version": 3
   },
   "file_extension": ".py",
   "mimetype": "text/x-python",
   "name": "python",
   "nbconvert_exporter": "python",
   "pygments_lexer": "ipython3",
   "version": "3.1.-1"
  },
  "toc-autonumbering": true,
  "vscode": {
   "interpreter": {
    "hash": "47ef90cdf3004d3f859f1fb202523c65c07ba7c22eefd261b181f4744e2d0403"
   }
  }
 },
 "nbformat": 4,
 "nbformat_minor": 4
}
