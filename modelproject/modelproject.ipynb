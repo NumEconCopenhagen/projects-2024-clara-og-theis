{
 "cells": [
  {
   "cell_type": "markdown",
   "metadata": {},
   "source": [
    "# YOUR PROJECT TITLE"
   ]
  },
  {
   "cell_type": "markdown",
   "metadata": {},
   "source": [
    "Imports and set magics:"
   ]
  },
  {
   "cell_type": "code",
   "execution_count": 20,
   "metadata": {},
   "outputs": [
    {
     "name": "stdout",
     "output_type": "stream",
     "text": [
      "The autoreload extension is already loaded. To reload it, use:\n",
      "  %reload_ext autoreload\n"
     ]
    }
   ],
   "source": [
    "import numpy as np\n",
    "from scipy import optimize\n",
    "import sympy as sm\n",
    "from types import SimpleNamespace\n",
    "\n",
    "# autoreload modules when code is run\n",
    "%load_ext autoreload\n",
    "%autoreload 2\n",
    "\n",
    "# local modules\n",
    "import modelproject\n",
    "\n",
    "from modelproject import NashBargainingClass\n",
    "model = NashBargainingClass()\n"
   ]
  },
  {
   "cell_type": "markdown",
   "metadata": {},
   "source": [
    "# Model description"
   ]
  },
  {
   "cell_type": "markdown",
   "metadata": {},
   "source": [
    "We consider a simple Nash Bargaining problem betweem two agents: $N = \\{1,2\\}$. In our case two agents are a firm and a worker who bargain about splitting the productivity of the worker. The two agents has the possibility of agreeing on the distribution of the surplus of the labour. Another possibility is that they cannot agree on a wage and then they will receive $D=(d_1,d_2)$. $d_1$ can be thought for as reflecting unemployment benefit or the costs of searching for a job, which the bargained wage has to exceed for the contract to be entered into. We assume that $d_2=0$ because of free entry and a large number of firms. "
   ]
  },
  {
   "cell_type": "markdown",
   "metadata": {},
   "source": [
    "The firm's utility function is defined as their profit after paying wage to the worker as we assume that labour is the only production input. $\\theta$ is the value of labour in the form of productivity while $w\\in [d_1,\\theta]$ is the wage of the worker. We assume that both agents are ris neutral. The utility functions are thus presented as:\n",
    "$$\n",
    "\\begin{aligned}\n",
    "u_1(w) &= w \\\\\n",
    "u_2(\\theta, w) &= \\theta - w \\\\\n",
    "\\end{aligned}\n",
    "$$"
   ]
  },
  {
   "cell_type": "markdown",
   "metadata": {},
   "source": [
    "We assume that the firm and the worker have different bargaining power so our Nash Bargaining problem includes asymmetri. Thus the worker and the firm shares the contract surplus dependent on their relative bargaining power reflected by $\\alpha \\in (0,1)$ conditional on the 'threat point'. $\\alpha$ is the bargaining power of the worker while the bargaining power of the firm is given by $1-\\alpha$. "
   ]
  },
  {
   "cell_type": "markdown",
   "metadata": {},
   "source": [
    "If the axioms are fulfilled the unique solution of the Nash baragining problem with asymmetry where $D=(d_1,0)$ is given by\n",
    "$$\n",
    "\\begin{aligned}\n",
    "f(u,d) &= \\arg \\max_{(d_1,d_2)≤(u_1,u_2)\\in A} (u_1(w)-d_1)^\\alpha (u_2(\\theta,w)-d_2)^{1-\\alpha}  \\\\\n",
    "&= \\arg \\max_w (w-d_1)^\\alpha(\\theta-w)^{1-\\alpha}\\\\\n",
    "\\end{aligned}\n",
    "$$"
   ]
  },
  {
   "cell_type": "markdown",
   "metadata": {},
   "source": [
    "## Analytical solution"
   ]
  },
  {
   "cell_type": "markdown",
   "metadata": {},
   "source": [
    "If your model allows for an analytical solution, you should provide here.\n",
    "\n",
    "You may use Sympy for this. Then you can characterize the solution as a function of a parameter of the model.\n",
    "\n",
    "To characterize the solution, first derive a steady state equation as a function of a parameter using Sympy.solve and then turn it into a python function by Sympy.lambdify. See the lecture notes for details. "
   ]
  },
  {
   "cell_type": "code",
   "execution_count": 21,
   "metadata": {},
   "outputs": [
    {
     "data": {
      "text/latex": [
       "$\\displaystyle w = \\alpha \\theta + d_{1} \\cdot \\left(1 - \\alpha\\right)$"
      ],
      "text/plain": [
       "Eq(w, alpha*theta + d1*(1 - alpha))"
      ]
     },
     "execution_count": 21,
     "metadata": {},
     "output_type": "execute_result"
    }
   ],
   "source": [
    "# The wage is solves analytically\n",
    "analyticalsolution = sm.Eq(model.par.w,model.analyticalsolution())\n",
    "analyticalsolution"
   ]
  },
  {
   "cell_type": "markdown",
   "metadata": {},
   "source": [
    "## Numerical solution"
   ]
  },
  {
   "cell_type": "markdown",
   "metadata": {},
   "source": [
    "You can always solve a model numerically. \n",
    "\n",
    "Define first the set of parameters you need. \n",
    "\n",
    "Then choose one of the optimization algorithms that we have gone through in the lectures based on what you think is most fitting for your model.\n",
    "\n",
    "Are there any problems with convergence? Does the model converge for all starting values? Make a lot of testing to figure these things out. "
   ]
  },
  {
   "cell_type": "code",
   "execution_count": 22,
   "metadata": {},
   "outputs": [
    {
     "data": {
      "text/plain": [
       "       message: Optimization terminated successfully.\n",
       "       success: True\n",
       "        status: 0\n",
       "           fun: -31.748021039363994\n",
       "             x: [ 2.000e+01]\n",
       "           nit: 21\n",
       "          nfev: 42\n",
       " final_simplex: (array([[ 2.000e+01],\n",
       "                       [ 2.000e+01]]), array([-3.175e+01, -3.175e+01]))"
      ]
     },
     "execution_count": 22,
     "metadata": {},
     "output_type": "execute_result"
    }
   ],
   "source": [
    "numericalsolution = model.numericalsolution()\n",
    "numericalsolution"
   ]
  },
  {
   "cell_type": "markdown",
   "metadata": {},
   "source": [
    "# Further analysis"
   ]
  },
  {
   "cell_type": "markdown",
   "metadata": {},
   "source": [
    "Make detailed vizualizations of how your model changes with parameter values. \n",
    "\n",
    "Try to make an extension of the model. "
   ]
  },
  {
   "cell_type": "markdown",
   "metadata": {},
   "source": [
    "# Conclusion"
   ]
  },
  {
   "cell_type": "markdown",
   "metadata": {},
   "source": [
    "Add concise conclusion. "
   ]
  }
 ],
 "metadata": {
  "kernelspec": {
   "display_name": "base",
   "language": "python",
   "name": "python3"
  },
  "language_info": {
   "codemirror_mode": {
    "name": "ipython",
    "version": 3
   },
   "file_extension": ".py",
   "mimetype": "text/x-python",
   "name": "python",
   "nbconvert_exporter": "python",
   "pygments_lexer": "ipython3",
   "version": "3.11.7"
  },
  "toc-autonumbering": true,
  "vscode": {
   "interpreter": {
    "hash": "47ef90cdf3004d3f859f1fb202523c65c07ba7c22eefd261b181f4744e2d0403"
   }
  }
 },
 "nbformat": 4,
 "nbformat_minor": 4
}
